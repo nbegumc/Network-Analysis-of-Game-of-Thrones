{
  "nbformat": 4,
  "nbformat_minor": 0,
  "metadata": {
    "kernelspec": {
      "display_name": "Python 3",
      "language": "python",
      "name": "python3"
    },
    "language_info": {
      "codemirror_mode": {
        "name": "ipython",
        "version": 3
      },
      "file_extension": ".py",
      "mimetype": "text/x-python",
      "name": "python",
      "nbconvert_exporter": "python",
      "pygments_lexer": "ipython3",
      "version": "3.7.4"
    },
    "colab": {
      "name": "Game_of_Thrones_Network_Analysis.ipynb",
      "provenance": [],
      "include_colab_link": true
    }
  },
  "cells": [
    {
      "cell_type": "markdown",
      "metadata": {
        "id": "view-in-github",
        "colab_type": "text"
      },
      "source": [
        "<a href=\"https://colab.research.google.com/github/nbegumc/Network-Analysis/blob/master/Game_of_Thrones_Network_Analysis.ipynb\" target=\"_parent\"><img src=\"https://colab.research.google.com/assets/colab-badge.svg\" alt=\"Open In Colab\"/></a>"
      ]
    },
    {
      "cell_type": "code",
      "metadata": {
        "id": "WIeJqwAjanXH"
      },
      "source": [
        "import csv\n",
        "from operator import itemgetter\n",
        "\n",
        "import networkx as nx\n",
        "import matplotlib.pyplot as plt\n",
        "import numpy as np\n",
        "import scipy.stats\n",
        "from statsmodels.distributions.empirical_distribution import ECDF\n",
        "import pylab"
      ],
      "execution_count": null,
      "outputs": []
    },
    {
      "cell_type": "code",
      "metadata": {
        "id": "syTH-qEianXK"
      },
      "source": [
        "got_graph=nx.Graph()"
      ],
      "execution_count": null,
      "outputs": []
    },
    {
      "cell_type": "code",
      "metadata": {
        "id": "QU3C9JCbanXM"
      },
      "source": [
        "with open('got_nodes.txt', 'r') as nodecsv: # Open the file\n",
        "    nodereader = csv.reader(nodecsv) # Read the csv\n",
        "    # Retrieve the data (using Python list comprehension and list slicing to remove the header row)\n",
        "    node = [n for n in nodereader][1:]\n",
        "    \n",
        "nodes = [n[0] for n in node] # Get a list of only the node names\n",
        "\n",
        "with open('got_edges.txt', 'r') as edgecsv: # Open the file\n",
        "    edgereader = csv.reader(edgecsv) # Read the csv\n",
        "    edges = [tuple(e[0:3]) for e in edgereader][1:] # Retrieve the edges along with the weights"
      ],
      "execution_count": null,
      "outputs": []
    },
    {
      "cell_type": "code",
      "metadata": {
        "id": "Qb4LURxLanXN",
        "outputId": "4542e9a6-acf9-47c8-fc93-697d85735634"
      },
      "source": [
        "print(len(nodes))\n",
        "print(len(edges))"
      ],
      "execution_count": null,
      "outputs": [
        {
          "output_type": "stream",
          "text": [
            "107\n",
            "352\n"
          ],
          "name": "stdout"
        }
      ]
    },
    {
      "cell_type": "code",
      "metadata": {
        "id": "qS1VS7-WanXO",
        "outputId": "10dbf5b3-e202-45f5-9f3d-9c846cff4d92"
      },
      "source": [
        "got_graph.add_nodes_from(nodes) # Add nodes to the Graph\n",
        "got_graph.add_weighted_edges_from(edges,weight='Weight') # Add edges and edge weights to the Graph \n",
        "print(nx.info(got_graph)) # Print information about the Graph"
      ],
      "execution_count": null,
      "outputs": [
        {
          "output_type": "stream",
          "text": [
            "Name: \n",
            "Type: Graph\n",
            "Number of nodes: 107\n",
            "Number of edges: 352\n",
            "Average degree:   6.5794\n"
          ],
          "name": "stdout"
        }
      ]
    },
    {
      "cell_type": "code",
      "metadata": {
        "id": "248-60RlanXP"
      },
      "source": [
        "label_dict={}\n",
        "\n",
        "for n in node: # Loop through the list, one row at a time\n",
        "    label_dict[n[0]] = n[1]\n",
        " \n",
        "  "
      ],
      "execution_count": null,
      "outputs": []
    },
    {
      "cell_type": "code",
      "metadata": {
        "id": "y1kryQpnanXP"
      },
      "source": [
        "nx.set_node_attributes(got_graph, label_dict, 'label')\n"
      ],
      "execution_count": null,
      "outputs": []
    },
    {
      "cell_type": "code",
      "metadata": {
        "id": "qEMvxEuIanXQ",
        "outputId": "56745e06-ead5-4bd2-e2e3-e33fa2f01ea2"
      },
      "source": [
        "for n in got_graph.nodes:\n",
        "    print(n, got_graph.nodes[n]['label'])"
      ],
      "execution_count": null,
      "outputs": [
        {
          "output_type": "stream",
          "text": [
            "Aemon Aemon\n",
            "Grenn Grenn\n",
            "Samwell Samwell\n",
            "Aerys Aerys\n",
            "Jaime Jaime\n",
            "Robert Robert\n",
            "Tyrion Tyrion\n",
            "Tywin Tywin\n",
            "Alliser Alliser\n",
            "Mance Mance\n",
            "Amory Amory\n",
            "Oberyn Oberyn\n",
            "Arya Arya\n",
            "Anguy Anguy\n",
            "Beric Beric\n",
            "Bran Bran\n",
            "Brynden Brynden\n",
            "Cersei Cersei\n",
            "Gendry Gendry\n",
            "Gregor Gregor\n",
            "Joffrey Joffrey\n",
            "Jon Jon\n",
            "Rickon Rickon\n",
            "Roose Roose\n",
            "Sandor Sandor\n",
            "Thoros Thoros\n",
            "Balon Balon\n",
            "Loras Loras\n",
            "Belwas Belwas\n",
            "Barristan Barristan\n",
            "Illyrio Illyrio\n",
            "Hodor Hodor\n",
            "Jojen Jojen\n",
            "Luwin Luwin\n",
            "Meera Meera\n",
            "Nan Nan\n",
            "Theon Theon\n",
            "Brienne Brienne\n",
            "Bronn Bronn\n",
            "Podrick Podrick\n",
            "Lothar Lothar\n",
            "Walder Walder\n",
            "Catelyn Catelyn\n",
            "Edmure Edmure\n",
            "Hoster Hoster\n",
            "Jeyne Jeyne\n",
            "Lysa Lysa\n",
            "Petyr Petyr\n",
            "Robb Robb\n",
            "Roslin Roslin\n",
            "Sansa Sansa\n",
            "Stannis Stannis\n",
            "Elia Elia\n",
            "Ilyn Ilyn\n",
            "Meryn Meryn\n",
            "Pycelle Pycelle\n",
            "Shae Shae\n",
            "Varys Varys\n",
            "Craster Craster\n",
            "Karl Karl\n",
            "Daario Daario\n",
            "Drogo Drogo\n",
            "Irri Irri\n",
            "Daenerys Daenerys\n",
            "Aegon Aegon\n",
            "Jorah Jorah\n",
            "Kraznys Kraznys\n",
            "Missandei Missandei\n",
            "Rakharo Rakharo\n",
            "Rhaegar Rhaegar\n",
            "Viserys Viserys\n",
            "Worm Worm\n",
            "Davos Davos\n",
            "Cressen Cressen\n",
            "Salladhor Salladhor\n",
            "Eddard Eddard\n",
            "Eddison Eddison\n",
            "Gilly Gilly\n",
            "Qyburn Qyburn\n",
            "Renly Renly\n",
            "Tommen Tommen\n",
            "Janos Janos\n",
            "Bowen Bowen\n",
            "Kevan Kevan\n",
            "Margaery Margaery\n",
            "Myrcella Myrcella\n",
            "Dalla Dalla\n",
            "Melisandre Melisandre\n",
            "Orell Orell\n",
            "Qhorin Qhorin\n",
            "Rattleshirt Rattleshirt\n",
            "Styr Styr\n",
            "Val Val\n",
            "Ygritte Ygritte\n",
            "Jon Arryn Jon Arryn\n",
            "Lancel Lancel\n",
            "Olenna Olenna\n",
            "Marillion Marillion\n",
            "Robert Arryn Robert Arryn\n",
            "Ellaria Ellaria\n",
            "Mace Mace\n",
            "Rickard Rickard\n",
            "Ramsay Ramsay\n",
            "Chataya Chataya\n",
            "Shireen Shireen\n",
            "Doran Doran\n",
            "Walton Walton\n"
          ],
          "name": "stdout"
        }
      ]
    },
    {
      "cell_type": "code",
      "metadata": {
        "id": "5y8eEHNzanXQ"
      },
      "source": [
        "nx.write_gexf(G=got_graph,path=\"got_graph.gexf\")"
      ],
      "execution_count": null,
      "outputs": []
    },
    {
      "cell_type": "markdown",
      "metadata": {
        "id": "GU7eeL3UanXR"
      },
      "source": [
        "### DEGREE ANALYSIS"
      ]
    },
    {
      "cell_type": "code",
      "metadata": {
        "id": "WKW08SmmanXR",
        "outputId": "799b46d3-f52b-430d-d817-d00d45e9b890"
      },
      "source": [
        "#  degree method \n",
        "got_graph_degree = list(dict(got_graph.degree()).values())\n",
        "\n",
        "print(got_graph_degree)"
      ],
      "execution_count": null,
      "outputs": [
        {
          "output_type": "stream",
          "text": [
            "[5, 4, 15, 4, 24, 18, 36, 22, 3, 12, 1, 7, 19, 2, 6, 14, 8, 20, 4, 12, 18, 26, 6, 4, 13, 5, 6, 9, 4, 6, 1, 4, 4, 2, 5, 2, 4, 7, 4, 5, 5, 8, 18, 8, 3, 2, 10, 7, 25, 4, 26, 14, 5, 6, 7, 4, 5, 7, 5, 1, 4, 4, 4, 14, 1, 6, 1, 2, 1, 6, 3, 1, 5, 1, 1, 12, 3, 4, 1, 8, 5, 6, 2, 6, 7, 4, 3, 4, 1, 5, 4, 2, 4, 4, 2, 1, 2, 3, 3, 2, 3, 2, 1, 2, 1, 1, 1]\n"
          ],
          "name": "stdout"
        }
      ]
    },
    {
      "cell_type": "code",
      "metadata": {
        "id": "Q1x5kl8EanXS",
        "outputId": "75937679-44e6-49fd-a46f-18a6bb7d4331"
      },
      "source": [
        "# basic statistics\n",
        "print(np.mean(got_graph_degree))\n",
        "print(np.median(got_graph_degree))\n",
        "print(np.std(got_graph_degree))\n",
        "print(np.max(got_graph_degree))\n",
        "print(np.min(got_graph_degree))"
      ],
      "execution_count": null,
      "outputs": [
        {
          "output_type": "stream",
          "text": [
            "6.579439252336448\n",
            "4.0\n",
            "6.580965732013492\n",
            "36\n",
            "1\n"
          ],
          "name": "stdout"
        }
      ]
    },
    {
      "cell_type": "code",
      "metadata": {
        "id": "P97Ecx9aanXT",
        "outputId": "e07b9a22-5e33-4fc3-da33-fdd1c34560b1"
      },
      "source": [
        "def make_histogram(aGraph):     \n",
        "    fig = pylab.figure()\n",
        "    hist = nx.degree_histogram(aGraph)\n",
        "    pylab.bar(range(len(hist)), hist, align = 'center')\n",
        "    pylab.xlim((0, len(hist)))\n",
        "    pylab.xlabel(\"Degree of node\")\n",
        "    pylab.ylabel(\"Number of nodes\")\n",
        "    return fig\n",
        "make_histogram(got_graph)"
      ],
      "execution_count": null,
      "outputs": [
        {
          "output_type": "execute_result",
          "data": {
            "image/png": "[encoded data removed]",
            "text/plain": [
              "<Figure size 432x288 with 1 Axes>"
            ]
          },
          "metadata": {
            "tags": []
          },
          "execution_count": 13
        },
        {
          "output_type": "display_data",
          "data": {
            "image/png": "[encoded data removed]",
            "text/plain": [
              "<Figure size 432x288 with 1 Axes>"
            ]
          },
          "metadata": {
            "tags": [],
            "needs_background": "light"
          }
        }
      ]
    },
    {
      "cell_type": "markdown",
      "metadata": {
        "id": "icN3wQPWanXU"
      },
      "source": [
        "The degree centrality values are normalized by dividing by the maximum possible degree in a simple graph n-1 where n is the number of nodes in G."
      ]
    },
    {
      "cell_type": "code",
      "metadata": {
        "scrolled": true,
        "id": "gVo0w9VganXU",
        "outputId": "e94409e4-e9d6-4f5a-d924-d3ce69414fc7"
      },
      "source": [
        "degree_centrality = nx.degree_centrality(got_graph)\n",
        "print(degree_centrality)"
      ],
      "execution_count": null,
      "outputs": [
        {
          "output_type": "stream",
          "text": [
            "{'Aemon': 0.04716981132075471, 'Grenn': 0.03773584905660377, 'Samwell': 0.14150943396226415, 'Aerys': 0.03773584905660377, 'Jaime': 0.22641509433962265, 'Robert': 0.16981132075471697, 'Tyrion': 0.33962264150943394, 'Tywin': 0.20754716981132074, 'Alliser': 0.02830188679245283, 'Mance': 0.11320754716981132, 'Amory': 0.009433962264150943, 'Oberyn': 0.0660377358490566, 'Arya': 0.1792452830188679, 'Anguy': 0.018867924528301886, 'Beric': 0.05660377358490566, 'Bran': 0.1320754716981132, 'Brynden': 0.07547169811320754, 'Cersei': 0.18867924528301885, 'Gendry': 0.03773584905660377, 'Gregor': 0.11320754716981132, 'Joffrey': 0.16981132075471697, 'Jon': 0.24528301886792453, 'Rickon': 0.05660377358490566, 'Roose': 0.03773584905660377, 'Sandor': 0.12264150943396226, 'Thoros': 0.04716981132075471, 'Balon': 0.05660377358490566, 'Loras': 0.08490566037735849, 'Belwas': 0.03773584905660377, 'Barristan': 0.05660377358490566, 'Illyrio': 0.009433962264150943, 'Hodor': 0.03773584905660377, 'Jojen': 0.03773584905660377, 'Luwin': 0.018867924528301886, 'Meera': 0.04716981132075471, 'Nan': 0.018867924528301886, 'Theon': 0.03773584905660377, 'Brienne': 0.0660377358490566, 'Bronn': 0.03773584905660377, 'Podrick': 0.04716981132075471, 'Lothar': 0.04716981132075471, 'Walder': 0.07547169811320754, 'Catelyn': 0.16981132075471697, 'Edmure': 0.07547169811320754, 'Hoster': 0.02830188679245283, 'Jeyne': 0.018867924528301886, 'Lysa': 0.09433962264150943, 'Petyr': 0.0660377358490566, 'Robb': 0.2358490566037736, 'Roslin': 0.03773584905660377, 'Sansa': 0.24528301886792453, 'Stannis': 0.1320754716981132, 'Elia': 0.04716981132075471, 'Ilyn': 0.05660377358490566, 'Meryn': 0.0660377358490566, 'Pycelle': 0.03773584905660377, 'Shae': 0.04716981132075471, 'Varys': 0.0660377358490566, 'Craster': 0.04716981132075471, 'Karl': 0.009433962264150943, 'Daario': 0.03773584905660377, 'Drogo': 0.03773584905660377, 'Irri': 0.03773584905660377, 'Daenerys': 0.1320754716981132, 'Aegon': 0.009433962264150943, 'Jorah': 0.05660377358490566, 'Kraznys': 0.009433962264150943, 'Missandei': 0.018867924528301886, 'Rakharo': 0.009433962264150943, 'Rhaegar': 0.05660377358490566, 'Viserys': 0.02830188679245283, 'Worm': 0.009433962264150943, 'Davos': 0.04716981132075471, 'Cressen': 0.009433962264150943, 'Salladhor': 0.009433962264150943, 'Eddard': 0.11320754716981132, 'Eddison': 0.02830188679245283, 'Gilly': 0.03773584905660377, 'Qyburn': 0.009433962264150943, 'Renly': 0.07547169811320754, 'Tommen': 0.04716981132075471, 'Janos': 0.05660377358490566, 'Bowen': 0.018867924528301886, 'Kevan': 0.05660377358490566, 'Margaery': 0.0660377358490566, 'Myrcella': 0.03773584905660377, 'Dalla': 0.02830188679245283, 'Melisandre': 0.03773584905660377, 'Orell': 0.009433962264150943, 'Qhorin': 0.04716981132075471, 'Rattleshirt': 0.03773584905660377, 'Styr': 0.018867924528301886, 'Val': 0.03773584905660377, 'Ygritte': 0.03773584905660377, 'Jon Arryn': 0.018867924528301886, 'Lancel': 0.009433962264150943, 'Olenna': 0.018867924528301886, 'Marillion': 0.02830188679245283, 'Robert Arryn': 0.02830188679245283, 'Ellaria': 0.018867924528301886, 'Mace': 0.02830188679245283, 'Rickard': 0.018867924528301886, 'Ramsay': 0.009433962264150943, 'Chataya': 0.018867924528301886, 'Shireen': 0.009433962264150943, 'Doran': 0.009433962264150943, 'Walton': 0.009433962264150943}\n"
          ],
          "name": "stdout"
        }
      ]
    },
    {
      "cell_type": "code",
      "metadata": {
        "id": "2FBfwwPOanXV",
        "outputId": "e44a6910-492d-429c-a33c-837f95637d1a"
      },
      "source": [
        "#density (p=density)\n",
        "density=nx.density(got_graph)\n",
        "print('Density: {}'.format(density))"
      ],
      "execution_count": null,
      "outputs": [
        {
          "output_type": "stream",
          "text": [
            "Density: 0.062070181625815554\n"
          ],
          "name": "stdout"
        }
      ]
    },
    {
      "cell_type": "code",
      "metadata": {
        "id": "GXY6l2RlanXX",
        "outputId": "5c17b8c7-d891-4176-9abd-a4acbc40e8b0"
      },
      "source": [
        "#betweenness centrality\n",
        "betweenness_centrality=nx.betweenness_centrality(got_graph)\n",
        "print(betweenness_centrality)"
      ],
      "execution_count": null,
      "outputs": [
        {
          "output_type": "stream",
          "text": [
            "{'Aemon': 0.004622508177397137, 'Grenn': 5.989817310572027e-05, 'Samwell': 0.03227262859511145, 'Aerys': 0.0, 'Jaime': 0.09994344156136246, 'Robert': 0.2094523840293194, 'Tyrion': 0.19791284320277353, 'Tywin': 0.06553840423231058, 'Alliser': 0.0, 'Mance': 0.007275961371756524, 'Amory': 0.0, 'Oberyn': 0.01958014232946847, 'Arya': 0.07960711308183888, 'Anguy': 0.0, 'Beric': 0.0006091214266627511, 'Bran': 0.06301659941786954, 'Brynden': 0.004727134574764742, 'Cersei': 0.02674643287824232, 'Gendry': 0.0, 'Gregor': 0.005879915417737236, 'Joffrey': 0.025434099443917696, 'Jon': 0.22996466368473173, 'Rickon': 0.0007626320968639029, 'Roose': 0.0002629599012559427, 'Sandor': 0.014162278987154626, 'Thoros': 0.0019261823273239152, 'Balon': 0.0006281164805527878, 'Loras': 0.003780752291533962, 'Belwas': 0.018867924528301886, 'Barristan': 0.04011407489067884, 'Illyrio': 0.0, 'Hodor': 0.0021937273446681065, 'Jojen': 0.0004064518889316733, 'Luwin': 0.0, 'Meera': 0.0019922569692430686, 'Nan': 0.0, 'Theon': 0.00047177590304274953, 'Brienne': 0.0015376001520469229, 'Bronn': 0.00010482180293501046, 'Podrick': 0.0008358985235471674, 'Lothar': 0.0006600525898733143, 'Walder': 0.0032731813973401044, 'Catelyn': 0.04890588265764755, 'Edmure': 0.0063172332740347534, 'Hoster': 0.0002426336765959408, 'Jeyne': 0.0, 'Lysa': 0.015215156305177053, 'Petyr': 0.0011502139845250673, 'Robb': 0.1269644713830151, 'Roslin': 6.751960581039384e-05, 'Sansa': 0.12672031668498004, 'Stannis': 0.1026998617273264, 'Elia': 0.002996853410630337, 'Ilyn': 0.0, 'Meryn': 0.00025900705642512993, 'Pycelle': 0.0, 'Shae': 0.0012523948930099663, 'Varys': 0.0009094137867722772, 'Craster': 0.018867924528301886, 'Karl': 0.0, 'Daario': 5.989817310572027e-05, 'Drogo': 5.989817310572027e-05, 'Irri': 0.00017969451931716083, 'Daenerys': 0.15720345212054956, 'Aegon': 0.0, 'Jorah': 0.002329891127259132, 'Kraznys': 0.0, 'Missandei': 0.0, 'Rakharo': 0.0, 'Rhaegar': 0.007312671807481101, 'Viserys': 0.015644391307527945, 'Worm': 0.0, 'Davos': 0.056064690026954175, 'Cressen': 0.0, 'Salladhor': 0.0, 'Eddard': 0.019341416465723616, 'Eddison': 0.0, 'Gilly': 0.0, 'Qyburn': 0.0, 'Renly': 0.004227926858198188, 'Tommen': 0.0006984420191967362, 'Janos': 0.02355861153253357, 'Bowen': 0.0, 'Kevan': 0.019219915043818533, 'Margaery': 0.0010973522354777933, 'Myrcella': 0.0006235971795124951, 'Dalla': 0.0, 'Melisandre': 0.00860866854841803, 'Orell': 0.0, 'Qhorin': 0.0002635519616651692, 'Rattleshirt': 0.0, 'Styr': 0.0, 'Val': 0.005898334987101542, 'Ygritte': 0.0, 'Jon Arryn': 0.0005764583325230229, 'Lancel': 0.0, 'Olenna': 0.0, 'Marillion': 0.0, 'Robert Arryn': 0.0, 'Ellaria': 0.0, 'Mace': 0.0, 'Rickard': 0.0, 'Ramsay': 0.0, 'Chataya': 0.0, 'Shireen': 0.0, 'Doran': 0.0, 'Walton': 0.0}\n"
          ],
          "name": "stdout"
        }
      ]
    },
    {
      "cell_type": "code",
      "metadata": {
        "id": "nCZJKvZJanXZ",
        "outputId": "abe25c7c-7b6c-4357-92af-55a1cdd00a12"
      },
      "source": [
        "# closeness centrality\n",
        "closeness_centrality = nx.closeness_centrality(got_graph)\n",
        "print(closeness_centrality)"
      ],
      "execution_count": null,
      "outputs": [
        {
          "output_type": "stream",
          "text": [
            "{'Aemon': 0.3897058823529412, 'Grenn': 0.3302180685358255, 'Samwell': 0.38405797101449274, 'Aerys': 0.3925925925925926, 'Jaime': 0.4796380090497738, 'Robert': 0.5, 'Tyrion': 0.5120772946859904, 'Tywin': 0.4690265486725664, 'Alliser': 0.343042071197411, 'Mance': 0.3581081081081081, 'Amory': 0.2617283950617284, 'Oberyn': 0.35333333333333333, 'Arya': 0.48623853211009177, 'Anguy': 0.32919254658385094, 'Beric': 0.33865814696485624, 'Bran': 0.42063492063492064, 'Brynden': 0.375886524822695, 'Cersei': 0.4435146443514644, 'Gendry': 0.3333333333333333, 'Gregor': 0.40304182509505704, 'Joffrey': 0.43983402489626555, 'Jon': 0.4796380090497738, 'Rickon': 0.37857142857142856, 'Roose': 0.3581081081081081, 'Sandor': 0.41732283464566927, 'Thoros': 0.36177474402730375, 'Balon': 0.4061302681992337, 'Loras': 0.3897058823529412, 'Belwas': 0.2857142857142857, 'Barristan': 0.37992831541218636, 'Illyrio': 0.22268907563025211, 'Hodor': 0.33865814696485624, 'Jojen': 0.3136094674556213, 'Luwin': 0.29775280898876405, 'Meera': 0.33865814696485624, 'Nan': 0.29775280898876405, 'Theon': 0.3732394366197183, 'Brienne': 0.3882783882783883, 'Bronn': 0.34527687296416937, 'Podrick': 0.37722419928825623, 'Lothar': 0.33544303797468356, 'Walder': 0.3693379790940767, 'Catelyn': 0.44166666666666665, 'Edmure': 0.3706293706293706, 'Hoster': 0.314540059347181, 'Jeyne': 0.33544303797468356, 'Lysa': 0.3925925925925926, 'Petyr': 0.39552238805970147, 'Robb': 0.48847926267281105, 'Roslin': 0.31268436578171094, 'Sansa': 0.5096153846153846, 'Stannis': 0.4796380090497738, 'Elia': 0.3693379790940767, 'Ilyn': 0.3521594684385382, 'Meryn': 0.36177474402730375, 'Pycelle': 0.3509933774834437, 'Shae': 0.3719298245614035, 'Varys': 0.35570469798657717, 'Craster': 0.3322884012539185, 'Karl': 0.25, 'Daario': 0.27040816326530615, 'Drogo': 0.27040816326530615, 'Irri': 0.27040816326530615, 'Daenerys': 0.36551724137931035, 'Aegon': 0.2683544303797468, 'Jorah': 0.28804347826086957, 'Kraznys': 0.2683544303797468, 'Missandei': 0.26903553299492383, 'Rakharo': 0.2683544303797468, 'Rhaegar': 0.35570469798657717, 'Viserys': 0.3719298245614035, 'Worm': 0.2683544303797468, 'Davos': 0.3322884012539185, 'Cressen': 0.25, 'Salladhor': 0.25, 'Eddard': 0.4608695652173913, 'Eddison': 0.32919254658385094, 'Gilly': 0.33125, 'Qyburn': 0.32515337423312884, 'Renly': 0.41568627450980394, 'Tommen': 0.34983498349834985, 'Janos': 0.39552238805970147, 'Bowen': 0.30113636363636365, 'Kevan': 0.37992831541218636, 'Margaery': 0.375886524822695, 'Myrcella': 0.3719298245614035, 'Dalla': 0.334384858044164, 'Melisandre': 0.36678200692041524, 'Orell': 0.32515337423312884, 'Qhorin': 0.33125, 'Rattleshirt': 0.3281733746130031, 'Styr': 0.3261538461538461, 'Val': 0.3732394366197183, 'Ygritte': 0.3281733746130031, 'Jon Arryn': 0.34527687296416937, 'Lancel': 0.2760416666666667, 'Olenna': 0.3408360128617363, 'Marillion': 0.34415584415584416, 'Robert Arryn': 0.34415584415584416, 'Ellaria': 0.3419354838709677, 'Mace': 0.34868421052631576, 'Rickard': 0.3302180685358255, 'Ramsay': 0.32919254658385094, 'Chataya': 0.3408360128617363, 'Shireen': 0.25, 'Doran': 0.33974358974358976, 'Walton': 0.32515337423312884}\n"
          ],
          "name": "stdout"
        }
      ]
    },
    {
      "cell_type": "code",
      "metadata": {
        "id": "WDXXOpkcanXa",
        "outputId": "513ac2ad-254d-4ea1-fda7-2d645289ac99"
      },
      "source": [
        "#Eigenvector centrality\n",
        "eigenvector_centrality = nx.eigenvector_centrality(got_graph)\n",
        "print(eigenvector_centrality)"
      ],
      "execution_count": null,
      "outputs": [
        {
          "output_type": "stream",
          "text": [
            "{'Aemon': 0.044139030178631765, 'Grenn': 0.01947979427324889, 'Samwell': 0.0543463811965928, 'Aerys': 0.078330375654338, 'Jaime': 0.27366303653172797, 'Robert': 0.19958752278264225, 'Tyrion': 0.33663766254996313, 'Tywin': 0.2248558363286332, 'Alliser': 0.01648394019716699, 'Mance': 0.030760352562253686, 'Amory': 0.005955545728156814, 'Oberyn': 0.07867344685980789, 'Arya': 0.22293108897418834, 'Anguy': 0.020689472558261975, 'Beric': 0.05037480261481118, 'Bran': 0.11528707749525803, 'Brynden': 0.08301687589161551, 'Cersei': 0.24644869607730555, 'Gendry': 0.037123716279776765, 'Gregor': 0.16127156812112656, 'Joffrey': 0.23065949393794508, 'Jon': 0.14245476192376477, 'Rickon': 0.08127662112877643, 'Roose': 0.05808085817896897, 'Sandor': 0.1659268683467339, 'Thoros': 0.05116936381767867, 'Balon': 0.10341422105477018, 'Loras': 0.11890448588807408, 'Belwas': 0.005637228079906845, 'Barristan': 0.04094877787714187, 'Illyrio': 0.00042674093059720335, 'Hodor': 0.03062940075397417, 'Jojen': 0.017223531808814807, 'Luwin': 0.009442334573967726, 'Meera': 0.027248895679381754, 'Nan': 0.009442334573967726, 'Theon': 0.04419966585951716, 'Brienne': 0.10698065588295304, 'Bronn': 0.06205026797683861, 'Podrick': 0.07532886400365406, 'Lothar': 0.038232307590486646, 'Walder': 0.07541760774724762, 'Catelyn': 0.19248526173555658, 'Edmure': 0.07305905330338217, 'Hoster': 0.028738400211428417, 'Jeyne': 0.033106315944244936, 'Lysa': 0.1140884041852657, 'Petyr': 0.11106103579482832, 'Robb': 0.2448454761557984, 'Roslin': 0.028705292361689297, 'Sansa': 0.27878188816602195, 'Stannis': 0.16719227096201983, 'Elia': 0.07925591817363614, 'Ilyn': 0.09502037461180429, 'Meryn': 0.11427886971687551, 'Pycelle': 0.06778491263829713, 'Shae': 0.0742216706237456, 'Varys': 0.08749897264392839, 'Craster': 0.01874675365879321, 'Karl': 0.0014192979620201859, 'Daario': 0.0029145432690333103, 'Drogo': 0.0029145432690333103, 'Irri': 0.002494367244789526, 'Daenerys': 0.025037177902573163, 'Aegon': 0.0018953289413951903, 'Jorah': 0.008054847886861598, 'Kraznys': 0.0018953289413951903, 'Missandei': 0.002084154592096671, 'Rakharo': 0.0018953289413951903, 'Rhaegar': 0.028951969959819388, 'Viserys': 0.029570489320951614, 'Worm': 0.0018953289413951903, 'Davos': 0.01508859526572101, 'Cressen': 0.0011422440283831998, 'Salladhor': 0.0011422440283831998, 'Eddard': 0.16760649963333293, 'Eddison': 0.016373477151402836, 'Gilly': 0.018646855934966747, 'Qyburn': 0.02071636517190527, 'Renly': 0.11771670959798197, 'Tommen': 0.06745655822272247, 'Janos': 0.044525688289407866, 'Bowen': 0.007485128192761285, 'Kevan': 0.08819903989819637, 'Margaery': 0.09276945755245652, 'Myrcella': 0.06915481726077183, 'Dalla': 0.015483234821474259, 'Melisandre': 0.028697595753927812, 'Orell': 0.010784340200012484, 'Qhorin': 0.019619097784005102, 'Rattleshirt': 0.015794301407823487, 'Styr': 0.013113184988676136, 'Val': 0.03130698794457339, 'Ygritte': 0.015794301407823487, 'Jon Arryn': 0.02374541967918118, 'Lancel': 0.006676656510967677, 'Olenna': 0.03010502336558318, 'Marillion': 0.03217620770704179, 'Robert Arryn': 0.03217620770704179, 'Ellaria': 0.031439033329362175, 'Mace': 0.048460641724622305, 'Rickard': 0.02481949470182966, 'Ramsay': 0.018535049357472154, 'Chataya': 0.031102058926265122, 'Shireen': 0.0011422440283831998, 'Doran': 0.025483487601205362, 'Walton': 0.02071636517190527}\n"
          ],
          "name": "stdout"
        }
      ]
    },
    {
      "cell_type": "code",
      "metadata": {
        "id": "Bcx5y9dNanXb",
        "outputId": "8917c913-25e1-41c5-ca91-84dbc5102996"
      },
      "source": [
        "hub_degree = sorted(degree_centrality.items(),key = lambda x:x[1], reverse=True)[0]\n",
        "hub_betweenness = sorted(betweenness_centrality.items(),key = lambda x:x[1], reverse=True)[0]\n",
        "hub_closeness = sorted(closeness_centrality.items(),key = lambda x:x[1], reverse=True)[0]\n",
        "hub_eigenvector = sorted(eigenvector_centrality.items(),key = lambda x:x[1], reverse=True)[0]\n",
        "print('degree:      ',hub_degree)\n",
        "print('betweenness: ',hub_betweenness)\n",
        "print('closeness:   ',hub_closeness)\n",
        "print('eigenvector: ',hub_eigenvector)\n",
        "\n",
        "#thats enough, dont have to calculate katz and pagerank for undirected graph."
      ],
      "execution_count": null,
      "outputs": [
        {
          "output_type": "stream",
          "text": [
            "degree:       ('Tyrion', 0.33962264150943394)\n",
            "betweenness:  ('Jon', 0.22996466368473173)\n",
            "closeness:    ('Tyrion', 0.5120772946859904)\n",
            "eigenvector:  ('Tyrion', 0.33663766254996313)\n"
          ],
          "name": "stdout"
        }
      ]
    },
    {
      "cell_type": "markdown",
      "metadata": {
        "id": "Jel2bq62anXc"
      },
      "source": [
        "### ECDF and ECCDF"
      ]
    },
    {
      "cell_type": "code",
      "metadata": {
        "id": "2fey7YCYanXc",
        "outputId": "7760336d-4739-458c-fb12-185efb113a61"
      },
      "source": [
        "# ECDF in linear scale\n",
        "cdf_function = ECDF(got_graph_degree)\n",
        "x = np.unique(got_graph_degree)\n",
        "y = cdf_function(x)\n",
        "fig_cdf_function = plt.figure(figsize=(8,5)) \n",
        "axes = fig_cdf_function.gca()\n",
        "axes.plot(x,y,color = 'red', linestyle = '--', marker= 'o',ms = 16)\n",
        "axes.set_xlabel('Degree',size = 30)\n",
        "axes.set_ylabel('ECDF',size = 30)\n",
        "\n",
        "# ECDF in loglog scale\n",
        "fig_cdf_function = plt.figure(figsize=(8,5))\n",
        "axes = fig_cdf_function.gca()\n",
        "axes.loglog(x,y,color = 'red', linestyle = '--', marker= 'o',ms = 16)\n",
        "axes.set_xlabel('Degree',size = 30)\n",
        "axes.set_ylabel('ECDF',size = 30)\n",
        "\n",
        "# ECCDF in loglog scale\n",
        "y = 1-cdf_function(x)\n",
        "fig_ccdf_function = plt.figure(figsize=(8,5))\n",
        "axes = fig_ccdf_function.gca()\n",
        "axes.loglog(x,y,color = 'red', linestyle = '--', marker= 'o',ms = 16)\n",
        "axes.set_xlabel('Degree',size = 30)\n",
        "axes.set_ylabel('ECCDF',size = 30)"
      ],
      "execution_count": null,
      "outputs": [
        {
          "output_type": "execute_result",
          "data": {
            "text/plain": [
              "Text(0, 0.5, 'ECCDF')"
            ]
          },
          "metadata": {
            "tags": []
          },
          "execution_count": 20
        },
        {
          "output_type": "display_data",
          "data": {
            "image/png": "[encoded data removed]",
            "text/plain": [
              "<Figure size 576x360 with 1 Axes>"
            ]
          },
          "metadata": {
            "tags": [],
            "needs_background": "light"
          }
        },
        {
          "output_type": "display_data",
          "data": {
            "image/png": "[encoded data removed]",
            "text/plain": [
              "<Figure size 576x360 with 1 Axes>"
            ]
          },
          "metadata": {
            "tags": [],
            "needs_background": "light"
          }
        },
        {
          "output_type": "display_data",
          "data": {
            "image/png": "[encoded data removed]",
            "text/plain": [
              "<Figure size 576x360 with 1 Axes>"
            ]
          },
          "metadata": {
            "tags": [],
            "needs_background": "light"
          }
        }
      ]
    },
    {
      "cell_type": "markdown",
      "metadata": {
        "id": "IbD2a0yHanXd"
      },
      "source": [
        "### HUBS"
      ]
    },
    {
      "cell_type": "markdown",
      "metadata": {
        "id": "EDm8VCsManXe"
      },
      "source": [
        "Nodes with high degree. Fix the quantile in the CDF. given  𝑞∈[0,1]  find the degree  𝑘  such that  𝐹𝑋(𝑘)=𝑞 . We use the Numpy function percentile.  𝑞=0.95"
      ]
    },
    {
      "cell_type": "code",
      "metadata": {
        "id": "rke9OlTsanXf",
        "outputId": "fbc9ab88-7970-4c49-91ac-f0c10f865dec"
      },
      "source": [
        "percentile_98 = np.percentile(got_graph_degree,98)\n",
        "print(percentile_98)"
      ],
      "execution_count": null,
      "outputs": [
        {
          "output_type": "stream",
          "text": [
            "25.879999999999995\n"
          ],
          "name": "stdout"
        }
      ]
    },
    {
      "cell_type": "markdown",
      "metadata": {
        "id": "YnBFj29GanXf"
      },
      "source": [
        "Now we can identify the hubs by using the list comprehension"
      ]
    },
    {
      "cell_type": "code",
      "metadata": {
        "id": "qSxyPD6tanXf",
        "outputId": "8ddd88de-4e25-49ef-91f8-7743926aad6a"
      },
      "source": [
        "hub_nodi = [k for k,v in dict(got_graph.degree()).items() if v>= percentile_98]\n",
        "print(hub_nodi)"
      ],
      "execution_count": null,
      "outputs": [
        {
          "output_type": "stream",
          "text": [
            "['Tyrion', 'Jon', 'Sansa']\n"
          ],
          "name": "stdout"
        }
      ]
    },
    {
      "cell_type": "code",
      "metadata": {
        "id": "M_bBtL7lanXg",
        "outputId": "bd0df2c9-febb-44c5-a04d-0149cf0b7433"
      },
      "source": [
        "print(len(hub_nodi))\n",
        "print(list(hub_nodi))"
      ],
      "execution_count": null,
      "outputs": [
        {
          "output_type": "stream",
          "text": [
            "3\n",
            "['Tyrion', 'Jon', 'Sansa']\n"
          ],
          "name": "stdout"
        }
      ]
    },
    {
      "cell_type": "code",
      "metadata": {
        "id": "BlDYH2WdanXh",
        "outputId": "d3d76976-2000-42c0-ed01-879e3015b0b1"
      },
      "source": [
        "#### Isolates\n",
        "print(list(nx.isolates(got_graph)))"
      ],
      "execution_count": null,
      "outputs": [
        {
          "output_type": "stream",
          "text": [
            "[]\n"
          ],
          "name": "stdout"
        }
      ]
    },
    {
      "cell_type": "markdown",
      "metadata": {
        "id": "eo6XiapnanXh"
      },
      "source": [
        "### Connectivity"
      ]
    },
    {
      "cell_type": "code",
      "metadata": {
        "id": "3tHUHps0anXi",
        "outputId": "8814abb1-6ade-4feb-a179-a6e860c51276"
      },
      "source": [
        "print(nx.is_connected(got_graph))\n",
        "print(nx.number_connected_components(got_graph))"
      ],
      "execution_count": null,
      "outputs": [
        {
          "output_type": "stream",
          "text": [
            "True\n",
            "1\n"
          ],
          "name": "stdout"
        }
      ]
    },
    {
      "cell_type": "code",
      "metadata": {
        "id": "E54cGaxIanXi",
        "outputId": "08bb72c2-a184-4e7f-ef13-8bad97e7c665"
      },
      "source": [
        "nx.diameter(got_graph)\n",
        "#The maximum shortest distance between a pair of nodes in a graph "
      ],
      "execution_count": null,
      "outputs": [
        {
          "output_type": "execute_result",
          "data": {
            "text/plain": [
              "6"
            ]
          },
          "metadata": {
            "tags": []
          },
          "execution_count": 26
        }
      ]
    },
    {
      "cell_type": "code",
      "metadata": {
        "id": "Z70SLgs0anXj",
        "outputId": "f26c3e75-f7d8-4d88-b4ec-07b906df2501"
      },
      "source": [
        "(nx.average_shortest_path_length(got_graph)) \n",
        "#average of shortest paths between all possible pairs of nodes "
      ],
      "execution_count": null,
      "outputs": [
        {
          "output_type": "execute_result",
          "data": {
            "text/plain": [
              "2.903897019925939"
            ]
          },
          "metadata": {
            "tags": []
          },
          "execution_count": 27
        }
      ]
    },
    {
      "cell_type": "markdown",
      "metadata": {
        "id": "quZkEHR8anXk"
      },
      "source": [
        "### Random networks: the Erdos-Renyi model"
      ]
    },
    {
      "cell_type": "markdown",
      "metadata": {
        "id": "02Qinl4zanXk"
      },
      "source": [
        "From\n",
        "$$ <k> = p (N-1)$$\n",
        "we obtain $p = \\frac{<k>}{N-1}$"
      ]
    },
    {
      "cell_type": "code",
      "metadata": {
        "id": "4a37q9iRanXk",
        "outputId": "59881b5c-c5c8-4531-81c0-b3666760a968"
      },
      "source": [
        "mean_degree_got=np.mean(got_graph_degree)\n",
        "p= mean_degree_got/(got_graph.order()-1)\n",
        "p #same as the density of the network"
      ],
      "execution_count": null,
      "outputs": [
        {
          "output_type": "execute_result",
          "data": {
            "text/plain": [
              "0.062070181625815554"
            ]
          },
          "metadata": {
            "tags": []
          },
          "execution_count": 28
        }
      ]
    },
    {
      "cell_type": "code",
      "metadata": {
        "id": "59yl3VJganXl"
      },
      "source": [
        "random_graph = nx.fast_gnp_random_graph(got_graph.order(),p)"
      ],
      "execution_count": null,
      "outputs": []
    },
    {
      "cell_type": "code",
      "metadata": {
        "id": "cdDIK2ZUanXm",
        "outputId": "dc4ebae2-cc18-4bf2-cedb-0ae308b01304"
      },
      "source": [
        "print('Number of nodes: {}'.format(random_graph.order()))\n",
        "print('Number of links: {}'.format(random_graph.size()))"
      ],
      "execution_count": null,
      "outputs": [
        {
          "output_type": "stream",
          "text": [
            "Number of nodes: 107\n",
            "Number of links: 372\n"
          ],
          "name": "stdout"
        }
      ]
    },
    {
      "cell_type": "code",
      "metadata": {
        "id": "4tzeRMV3anXn",
        "outputId": "30827090-dade-4720-f0d4-352a2067b972"
      },
      "source": [
        "random_degree = list(dict(random_graph.degree()).values())\n",
        "np.mean(random_degree) "
      ],
      "execution_count": null,
      "outputs": [
        {
          "output_type": "execute_result",
          "data": {
            "text/plain": [
              "6.953271028037383"
            ]
          },
          "metadata": {
            "tags": []
          },
          "execution_count": 31
        }
      ]
    },
    {
      "cell_type": "code",
      "metadata": {
        "id": "qGdx2AsmanXn",
        "outputId": "dd7285bb-0cd6-4421-d987-421dfe76d9d4"
      },
      "source": [
        "cdf_got_graph = ECDF(got_graph_degree)\n",
        "x_sw = np.unique(got_graph_degree)\n",
        "y_sw = cdf_got_graph(x_sw)\n",
        "cdf_random = ECDF(random_degree)\n",
        "x_random = np.unique(random_degree)\n",
        "y_random = cdf_random(x_random)\n",
        "fig_cdf_sw = plt.figure(figsize=(16,9))\n",
        "assi = fig_cdf_sw.gca()\n",
        "assi.set_xscale('log')\n",
        "assi.set_yscale('log')\n",
        "assi.loglog(x_sw,1-y_sw,marker='o',ms=8, linestyle='--', label='Real Network')\n",
        "assi.plot(x_random,1-y_random,marker='+',ms=10, linestyle='--',label='Random Network')\n",
        "assi.set_xlabel('Degree',size=30)\n",
        "assi.set_ylabel('ECCDF', size = 30)\n",
        "assi.legend(loc=\"upper right\")"
      ],
      "execution_count": null,
      "outputs": [
        {
          "output_type": "execute_result",
          "data": {
            "text/plain": [
              "<matplotlib.legend.Legend at 0x1df9be08c08>"
            ]
          },
          "metadata": {
            "tags": []
          },
          "execution_count": 87
        },
        {
          "output_type": "display_data",
          "data": {
            "image/png": "[encoded data removed]",
            "text/plain": [
              "<Figure size 1152x648 with 1 Axes>"
            ]
          },
          "metadata": {
            "tags": [],
            "needs_background": "light"
          }
        }
      ]
    },
    {
      "cell_type": "markdown",
      "metadata": {
        "id": "tL1UO6ASanXo"
      },
      "source": [
        "## Triangles"
      ]
    },
    {
      "cell_type": "markdown",
      "metadata": {
        "id": "utW9MOIzanXp"
      },
      "source": [
        "Note: When computing triangles for the entire graph each triangle is counted three times, once at each node. \n",
        "Note: Self loops are ignored."
      ]
    },
    {
      "cell_type": "code",
      "metadata": {
        "id": "Oj174P5danXq",
        "outputId": "19cb9444-a244-44b6-bac2-2a116afa4600"
      },
      "source": [
        "print('game of thrones graph - dictionary keyed by nodes: number of triangles {}'.format(nx.triangles(got_graph)))\n",
        "print('game of thrones graph - number of triangles of node labelled Jon: {}'.format(nx.triangles(got_graph,'Jon')))\n",
        "print('game of thrones graph - list of the number of triangles of all nodes: {}'.format(list(nx.triangles(got_graph).values())))"
      ],
      "execution_count": null,
      "outputs": [
        {
          "output_type": "stream",
          "text": [
            "game of thrones graph - dictionary keyed by nodes: number of triangles {'Aemon': 7, 'Grenn': 5, 'Samwell': 25, 'Aerys': 6, 'Jaime': 77, 'Robert': 44, 'Tyrion': 114, 'Tywin': 53, 'Alliser': 3, 'Mance': 21, 'Amory': 0, 'Oberyn': 9, 'Arya': 57, 'Anguy': 1, 'Beric': 9, 'Bran': 29, 'Brynden': 13, 'Cersei': 68, 'Gendry': 6, 'Gregor': 36, 'Joffrey': 60, 'Jon': 51, 'Rickon': 12, 'Roose': 4, 'Sandor': 39, 'Thoros': 8, 'Balon': 12, 'Loras': 18, 'Belwas': 3, 'Barristan': 8, 'Illyrio': 0, 'Hodor': 4, 'Jojen': 5, 'Luwin': 1, 'Meera': 7, 'Nan': 1, 'Theon': 5, 'Brienne': 13, 'Bronn': 4, 'Podrick': 5, 'Lothar': 8, 'Walder': 17, 'Catelyn': 45, 'Edmure': 15, 'Hoster': 2, 'Jeyne': 1, 'Lysa': 16, 'Petyr': 15, 'Robb': 72, 'Roslin': 5, 'Sansa': 82, 'Stannis': 32, 'Elia': 6, 'Ilyn': 15, 'Meryn': 19, 'Pycelle': 6, 'Shae': 6, 'Varys': 11, 'Craster': 6, 'Karl': 0, 'Daario': 5, 'Drogo': 5, 'Irri': 4, 'Daenerys': 14, 'Aegon': 0, 'Jorah': 8, 'Kraznys': 0, 'Missandei': 1, 'Rakharo': 0, 'Rhaegar': 6, 'Viserys': 1, 'Worm': 0, 'Davos': 1, 'Cressen': 0, 'Salladhor': 0, 'Eddard': 36, 'Eddison': 3, 'Gilly': 6, 'Qyburn': 0, 'Renly': 16, 'Tommen': 5, 'Janos': 6, 'Bowen': 1, 'Kevan': 7, 'Margaery': 12, 'Myrcella': 4, 'Dalla': 3, 'Melisandre': 4, 'Orell': 0, 'Qhorin': 8, 'Rattleshirt': 6, 'Styr': 1, 'Val': 3, 'Ygritte': 6, 'Jon Arryn': 0, 'Lancel': 0, 'Olenna': 1, 'Marillion': 3, 'Robert Arryn': 3, 'Ellaria': 1, 'Mace': 3, 'Rickard': 1, 'Ramsay': 0, 'Chataya': 1, 'Shireen': 0, 'Doran': 0, 'Walton': 0}\n",
            "game of thrones graph - number of triangles of node labelled Jon: 51\n",
            "game of thrones graph - list of the number of triangles of all nodes: [7, 5, 25, 6, 77, 44, 114, 53, 3, 21, 0, 9, 57, 1, 9, 29, 13, 68, 6, 36, 60, 51, 12, 4, 39, 8, 12, 18, 3, 8, 0, 4, 5, 1, 7, 1, 5, 13, 4, 5, 8, 17, 45, 15, 2, 1, 16, 15, 72, 5, 82, 32, 6, 15, 19, 6, 6, 11, 6, 0, 5, 5, 4, 14, 0, 8, 0, 1, 0, 6, 1, 0, 1, 0, 0, 36, 3, 6, 0, 16, 5, 6, 1, 7, 12, 4, 3, 4, 0, 8, 6, 1, 3, 6, 0, 0, 1, 3, 3, 1, 3, 1, 0, 1, 0, 0, 0]\n"
          ],
          "name": "stdout"
        }
      ]
    },
    {
      "cell_type": "markdown",
      "metadata": {
        "id": "ImwLZ866anXq"
      },
      "source": [
        "### Transitivity - Global Clustering Coefficient\n",
        "\n",
        "a measure of the degree to which nodes in a graph tend to cluster together."
      ]
    },
    {
      "cell_type": "code",
      "metadata": {
        "id": "21wE7yWVanXr",
        "outputId": "47d0e88f-2046-4fa8-86a9-702715d2901b"
      },
      "source": [
        "transitivity=nx.transitivity(got_graph)\n",
        "print(transitivity)\n",
        "#transitivty gives more weights to high degree nodes"
      ],
      "execution_count": null,
      "outputs": [
        {
          "output_type": "stream",
          "text": [
            "0.3286615276804485\n"
          ],
          "name": "stdout"
        }
      ]
    },
    {
      "cell_type": "markdown",
      "metadata": {
        "id": "6IXiU8ZTanXr"
      },
      "source": [
        "### Local clustering coefficient"
      ]
    },
    {
      "cell_type": "code",
      "metadata": {
        "id": "73bpBvzbanXr",
        "outputId": "874fecb0-63f5-4710-bbb7-2803485459d9"
      },
      "source": [
        "got_local_clustering= nx.clustering(got_graph)\n",
        "got_local_clustering['Jon']"
      ],
      "execution_count": null,
      "outputs": [
        {
          "output_type": "execute_result",
          "data": {
            "text/plain": [
              "0.15692307692307692"
            ]
          },
          "metadata": {
            "tags": []
          },
          "execution_count": 35
        }
      ]
    },
    {
      "cell_type": "code",
      "metadata": {
        "id": "kh8i0VGsanXs",
        "outputId": "2d16471e-40d9-4050-c828-8f156c9530ff"
      },
      "source": [
        "greatestlocalclustering = sorted(got_local_clustering.items(),key = lambda x:x[1], reverse=True)\n",
        "greatestlocalclustering"
      ],
      "execution_count": null,
      "outputs": [
        {
          "output_type": "execute_result",
          "data": {
            "text/plain": [
              "[('Aerys', 1.0),\n",
              " ('Alliser', 1.0),\n",
              " ('Anguy', 1.0),\n",
              " ('Gendry', 1.0),\n",
              " ('Luwin', 1.0),\n",
              " ('Nan', 1.0),\n",
              " ('Jeyne', 1.0),\n",
              " ('Ilyn', 1.0),\n",
              " ('Pycelle', 1.0),\n",
              " ('Missandei', 1.0),\n",
              " ('Eddison', 1.0),\n",
              " ('Gilly', 1.0),\n",
              " ('Bowen', 1.0),\n",
              " ('Dalla', 1.0),\n",
              " ('Rattleshirt', 1.0),\n",
              " ('Styr', 1.0),\n",
              " ('Ygritte', 1.0),\n",
              " ('Olenna', 1.0),\n",
              " ('Marillion', 1.0),\n",
              " ('Robert Arryn', 1.0),\n",
              " ('Ellaria', 1.0),\n",
              " ('Mace', 1.0),\n",
              " ('Rickard', 1.0),\n",
              " ('Chataya', 1.0),\n",
              " ('Meryn', 0.9047619047619048),\n",
              " ('Grenn', 0.8333333333333334),\n",
              " ('Jojen', 0.8333333333333334),\n",
              " ('Theon', 0.8333333333333334),\n",
              " ('Roslin', 0.8333333333333334),\n",
              " ('Daario', 0.8333333333333334),\n",
              " ('Drogo', 0.8333333333333334),\n",
              " ('Rickon', 0.8),\n",
              " ('Thoros', 0.8),\n",
              " ('Balon', 0.8),\n",
              " ('Lothar', 0.8),\n",
              " ('Qhorin', 0.8),\n",
              " ('Petyr', 0.7142857142857143),\n",
              " ('Aemon', 0.7),\n",
              " ('Meera', 0.7),\n",
              " ('Roose', 0.6666666666666666),\n",
              " ('Hodor', 0.6666666666666666),\n",
              " ('Bronn', 0.6666666666666666),\n",
              " ('Hoster', 0.6666666666666666),\n",
              " ('Irri', 0.6666666666666666),\n",
              " ('Myrcella', 0.6666666666666666),\n",
              " ('Melisandre', 0.6666666666666666),\n",
              " ('Brienne', 0.6190476190476191),\n",
              " ('Walder', 0.6071428571428571),\n",
              " ('Beric', 0.6),\n",
              " ('Elia', 0.6),\n",
              " ('Shae', 0.6),\n",
              " ('Craster', 0.6),\n",
              " ('Renly', 0.5714285714285714),\n",
              " ('Margaery', 0.5714285714285714),\n",
              " ('Gregor', 0.5454545454545454),\n",
              " ('Eddard', 0.5454545454545454),\n",
              " ('Edmure', 0.5357142857142857),\n",
              " ('Barristan', 0.5333333333333333),\n",
              " ('Jorah', 0.5333333333333333),\n",
              " ('Varys', 0.5238095238095238),\n",
              " ('Sandor', 0.5),\n",
              " ('Loras', 0.5),\n",
              " ('Belwas', 0.5),\n",
              " ('Podrick', 0.5),\n",
              " ('Tommen', 0.5),\n",
              " ('Val', 0.5),\n",
              " ('Kevan', 0.4666666666666667),\n",
              " ('Brynden', 0.4642857142857143),\n",
              " ('Oberyn', 0.42857142857142855),\n",
              " ('Rhaegar', 0.4),\n",
              " ('Janos', 0.4),\n",
              " ('Joffrey', 0.39215686274509803),\n",
              " ('Cersei', 0.35789473684210527),\n",
              " ('Lysa', 0.35555555555555557),\n",
              " ('Stannis', 0.3516483516483517),\n",
              " ('Arya', 0.3333333333333333),\n",
              " ('Viserys', 0.3333333333333333),\n",
              " ('Bran', 0.31868131868131866),\n",
              " ('Mance', 0.3181818181818182),\n",
              " ('Catelyn', 0.29411764705882354),\n",
              " ('Robert', 0.2875816993464052),\n",
              " ('Jaime', 0.27898550724637683),\n",
              " ('Sansa', 0.2523076923076923),\n",
              " ('Robb', 0.24),\n",
              " ('Samwell', 0.23809523809523808),\n",
              " ('Tywin', 0.22943722943722944),\n",
              " ('Tyrion', 0.18095238095238095),\n",
              " ('Jon', 0.15692307692307692),\n",
              " ('Daenerys', 0.15384615384615385),\n",
              " ('Davos', 0.1),\n",
              " ('Amory', 0),\n",
              " ('Illyrio', 0),\n",
              " ('Karl', 0),\n",
              " ('Aegon', 0),\n",
              " ('Kraznys', 0),\n",
              " ('Rakharo', 0),\n",
              " ('Worm', 0),\n",
              " ('Cressen', 0),\n",
              " ('Salladhor', 0),\n",
              " ('Qyburn', 0),\n",
              " ('Orell', 0),\n",
              " ('Jon Arryn', 0),\n",
              " ('Lancel', 0),\n",
              " ('Ramsay', 0),\n",
              " ('Shireen', 0),\n",
              " ('Doran', 0),\n",
              " ('Walton', 0)]"
            ]
          },
          "metadata": {
            "tags": []
          },
          "execution_count": 36
        }
      ]
    },
    {
      "cell_type": "markdown",
      "metadata": {
        "id": "9pwrb6X2anXt"
      },
      "source": [
        "Local clustering is interesting, rough dependence on degree in real network, \n",
        "vertices with higher degree having lower local clustering coef. on average\n",
        "Local ccmeasures influence.\n",
        "Betweennes and local CC are STRONGLY CORRELATED\n",
        "\n",
        "when the neighbors of a node are not connected to one another we say the network structure contains STRUCTURAL HOLES"
      ]
    },
    {
      "cell_type": "markdown",
      "metadata": {
        "id": "KMOF98tVanXt"
      },
      "source": [
        "### Average Clustering Coefficient"
      ]
    },
    {
      "cell_type": "code",
      "metadata": {
        "id": "BVZEbIV8anXu",
        "outputId": "d05ec988-bc96-4a29-c0cd-9ed26c67e4f3"
      },
      "source": [
        "print('average local clustering: {}'.format(nx.average_clustering(got_graph)))"
      ],
      "execution_count": null,
      "outputs": [
        {
          "output_type": "stream",
          "text": [
            "average local clustering: 0.551443151559996\n"
          ],
          "name": "stdout"
        }
      ]
    },
    {
      "cell_type": "code",
      "metadata": {
        "id": "92b1ubGNanXv",
        "outputId": "64f27cb8-407e-480c-c692-5a83c7e1c405"
      },
      "source": [
        "print('average local clustering: {}'.format(nx.average_clustering(random_graph)))"
      ],
      "execution_count": null,
      "outputs": [
        {
          "output_type": "stream",
          "text": [
            "average local clustering: 0.07098674949142236\n"
          ],
          "name": "stdout"
        }
      ]
    },
    {
      "cell_type": "markdown",
      "metadata": {
        "id": "xuE8hPdhanXv"
      },
      "source": [
        "### Correlation"
      ]
    },
    {
      "cell_type": "markdown",
      "metadata": {
        "id": "wOPrvIETanXw"
      },
      "source": [
        "Pearson correlation coefficient and p-value for testing non-correlation. \n",
        "The Pearson correlation coefficient measures the linear relationship between two datasets \n",
        "It varies between -1 and +1 with 0 implying no correlation"
      ]
    },
    {
      "cell_type": "code",
      "metadata": {
        "id": "HVNF9E5ManXw",
        "outputId": "27b0c72c-7211-47cf-9a2e-75785697fc7c"
      },
      "source": [
        "print(scipy.stats.pearsonr(list(degree_centrality.values()),list(eigenvector_centrality.values())))\n",
        "print(scipy.stats.pearsonr(list(betweenness_centrality.values()),list(got_local_clustering.values())))\n",
        "\n",
        "#buranın interpretation ını öğren"
      ],
      "execution_count": null,
      "outputs": [
        {
          "output_type": "stream",
          "text": [
            "(0.906868857956235, 3.3590917220268116e-41)\n",
            "(-0.32841063314613705, 0.0005533396252335149)\n"
          ],
          "name": "stdout"
        }
      ]
    },
    {
      "cell_type": "markdown",
      "metadata": {
        "id": "LiYObCVtanXx"
      },
      "source": [
        "#### Degree Assortativity"
      ]
    },
    {
      "cell_type": "code",
      "metadata": {
        "id": "F49EZLgBanXy",
        "outputId": "af49fff8-cb77-40a2-ce04-20b78b867fde"
      },
      "source": [
        "print(nx.degree_assortativity_coefficient(got_graph)) \n",
        "#buraya weighti ekle"
      ],
      "execution_count": null,
      "outputs": [
        {
          "output_type": "stream",
          "text": [
            "-0.13076968366930292\n"
          ],
          "name": "stdout"
        }
      ]
    },
    {
      "cell_type": "code",
      "metadata": {
        "id": "QtP4cZBUanXy"
      },
      "source": [
        "nx.write_gexf(G=got_graph,path='got_graph.gexf')"
      ],
      "execution_count": null,
      "outputs": []
    },
    {
      "cell_type": "markdown",
      "metadata": {
        "id": "4zMgPk5CanXy"
      },
      "source": [
        "## COMMUNITY"
      ]
    },
    {
      "cell_type": "markdown",
      "metadata": {
        "id": "S2RieDZYanXz"
      },
      "source": [
        "### Communitiy detection with Greedy Algorithm"
      ]
    },
    {
      "cell_type": "code",
      "metadata": {
        "id": "bW6KIE3tanXz"
      },
      "source": [
        "import networkx.algorithms.community as nx_comm"
      ],
      "execution_count": null,
      "outputs": []
    },
    {
      "cell_type": "code",
      "metadata": {
        "id": "yE0R5vp1anX0",
        "outputId": "65d94eb6-cd8f-4443-a701-9343c949d173"
      },
      "source": [
        "list_com_sets_greedy = list(nx_comm.greedy_modularity_communities(got_graph))\n",
        "print(list_com_sets_greedy)"
      ],
      "execution_count": null,
      "outputs": [
        {
          "output_type": "stream",
          "text": [
            "[frozenset({'Doran', 'Podrick', 'Tywin', 'Pycelle', 'Oberyn', 'Chataya', 'Sandor', 'Balon', 'Meryn', 'Ilyn', 'Myrcella', 'Amory', 'Tyrion', 'Mace', 'Renly', 'Qyburn', 'Olenna', 'Bronn', 'Walton', 'Varys', 'Margaery', 'Elia', 'Joffrey', 'Ellaria', 'Gregor', 'Lancel', 'Shae', 'Loras', 'Tommen', 'Jaime', 'Aerys', 'Kevan'}), frozenset({'Rattleshirt', 'Karl', 'Orell', 'Ygritte', 'Alliser', 'Grenn', 'Eddison', 'Cressen', 'Gilly', 'Styr', 'Craster', 'Dalla', 'Melisandre', 'Janos', 'Davos', 'Jon', 'Samwell', 'Mance', 'Qhorin', 'Hodor', 'Salladhor', 'Aemon', 'Val', 'Shireen', 'Stannis', 'Meera', 'Jojen', 'Bowen'}), frozenset({'Ramsay', 'Catelyn', 'Brienne', 'Arya', 'Lothar', 'Robb', 'Rickon', 'Rickard', 'Roose', 'Sansa', 'Roslin', 'Cersei', 'Eddard', 'Bran', 'Robert Arryn', 'Nan', 'Hoster', 'Jeyne', 'Theon', 'Walder', 'Luwin', 'Marillion', 'Brynden', 'Lysa', 'Edmure', 'Petyr'}), frozenset({'Illyrio', 'Kraznys', 'Daario', 'Worm', 'Robert', 'Drogo', 'Belwas', 'Rakharo', 'Barristan', 'Viserys', 'Jon Arryn', 'Irri', 'Daenerys', 'Jorah', 'Missandei', 'Rhaegar', 'Aegon'}), frozenset({'Beric', 'Gendry', 'Thoros', 'Anguy'})]\n"
          ],
          "name": "stdout"
        }
      ]
    },
    {
      "cell_type": "code",
      "metadata": {
        "id": "c0Dxz6-OanX0",
        "outputId": "4e3af498-2793-4a86-e042-4410c8f46ec9"
      },
      "source": [
        "partition_greedy = {}\n",
        "for i, comm in enumerate(list_com_sets_greedy):\n",
        "    print(\"Community:\", i)\n",
        "    print(i,comm)\n",
        "    for n in comm:\n",
        "        partition_greedy[n]=i"
      ],
      "execution_count": null,
      "outputs": [
        {
          "output_type": "stream",
          "text": [
            "Community: 0\n",
            "0 frozenset({'Doran', 'Podrick', 'Tywin', 'Pycelle', 'Oberyn', 'Chataya', 'Sandor', 'Balon', 'Meryn', 'Ilyn', 'Myrcella', 'Amory', 'Tyrion', 'Mace', 'Renly', 'Qyburn', 'Olenna', 'Bronn', 'Walton', 'Varys', 'Margaery', 'Elia', 'Joffrey', 'Ellaria', 'Gregor', 'Lancel', 'Shae', 'Loras', 'Tommen', 'Jaime', 'Aerys', 'Kevan'})\n",
            "Community: 1\n",
            "1 frozenset({'Rattleshirt', 'Karl', 'Orell', 'Ygritte', 'Alliser', 'Grenn', 'Eddison', 'Cressen', 'Gilly', 'Styr', 'Craster', 'Dalla', 'Melisandre', 'Janos', 'Davos', 'Jon', 'Samwell', 'Mance', 'Qhorin', 'Hodor', 'Salladhor', 'Aemon', 'Val', 'Shireen', 'Stannis', 'Meera', 'Jojen', 'Bowen'})\n",
            "Community: 2\n",
            "2 frozenset({'Ramsay', 'Catelyn', 'Brienne', 'Arya', 'Lothar', 'Robb', 'Rickon', 'Rickard', 'Roose', 'Sansa', 'Roslin', 'Cersei', 'Eddard', 'Bran', 'Robert Arryn', 'Nan', 'Hoster', 'Jeyne', 'Theon', 'Walder', 'Luwin', 'Marillion', 'Brynden', 'Lysa', 'Edmure', 'Petyr'})\n",
            "Community: 3\n",
            "3 frozenset({'Illyrio', 'Kraznys', 'Daario', 'Worm', 'Robert', 'Drogo', 'Belwas', 'Rakharo', 'Barristan', 'Viserys', 'Jon Arryn', 'Irri', 'Daenerys', 'Jorah', 'Missandei', 'Rhaegar', 'Aegon'})\n",
            "Community: 4\n",
            "4 frozenset({'Beric', 'Gendry', 'Thoros', 'Anguy'})\n"
          ],
          "name": "stdout"
        }
      ]
    },
    {
      "cell_type": "code",
      "metadata": {
        "id": "H9Zw1_oManX1",
        "outputId": "837e5435-2daf-408c-fa04-f1276c0b8abd"
      },
      "source": [
        "print(partition_greedy)"
      ],
      "execution_count": null,
      "outputs": [
        {
          "output_type": "stream",
          "text": [
            "{'Doran': 0, 'Podrick': 0, 'Tywin': 0, 'Pycelle': 0, 'Oberyn': 0, 'Chataya': 0, 'Sandor': 0, 'Balon': 0, 'Meryn': 0, 'Ilyn': 0, 'Myrcella': 0, 'Amory': 0, 'Tyrion': 0, 'Mace': 0, 'Renly': 0, 'Qyburn': 0, 'Olenna': 0, 'Bronn': 0, 'Walton': 0, 'Varys': 0, 'Margaery': 0, 'Elia': 0, 'Joffrey': 0, 'Ellaria': 0, 'Gregor': 0, 'Lancel': 0, 'Shae': 0, 'Loras': 0, 'Tommen': 0, 'Jaime': 0, 'Aerys': 0, 'Kevan': 0, 'Rattleshirt': 1, 'Karl': 1, 'Orell': 1, 'Ygritte': 1, 'Alliser': 1, 'Grenn': 1, 'Eddison': 1, 'Cressen': 1, 'Gilly': 1, 'Styr': 1, 'Craster': 1, 'Dalla': 1, 'Melisandre': 1, 'Janos': 1, 'Davos': 1, 'Jon': 1, 'Samwell': 1, 'Mance': 1, 'Qhorin': 1, 'Hodor': 1, 'Salladhor': 1, 'Aemon': 1, 'Val': 1, 'Shireen': 1, 'Stannis': 1, 'Meera': 1, 'Jojen': 1, 'Bowen': 1, 'Ramsay': 2, 'Catelyn': 2, 'Brienne': 2, 'Arya': 2, 'Lothar': 2, 'Robb': 2, 'Rickon': 2, 'Rickard': 2, 'Roose': 2, 'Sansa': 2, 'Roslin': 2, 'Cersei': 2, 'Eddard': 2, 'Bran': 2, 'Robert Arryn': 2, 'Nan': 2, 'Hoster': 2, 'Jeyne': 2, 'Theon': 2, 'Walder': 2, 'Luwin': 2, 'Marillion': 2, 'Brynden': 2, 'Lysa': 2, 'Edmure': 2, 'Petyr': 2, 'Illyrio': 3, 'Kraznys': 3, 'Daario': 3, 'Worm': 3, 'Robert': 3, 'Drogo': 3, 'Belwas': 3, 'Rakharo': 3, 'Barristan': 3, 'Viserys': 3, 'Jon Arryn': 3, 'Irri': 3, 'Daenerys': 3, 'Jorah': 3, 'Missandei': 3, 'Rhaegar': 3, 'Aegon': 3, 'Beric': 4, 'Gendry': 4, 'Thoros': 4, 'Anguy': 4}\n"
          ],
          "name": "stdout"
        }
      ]
    },
    {
      "cell_type": "code",
      "metadata": {
        "id": "9vuYe9NlanX1"
      },
      "source": [
        "nx.set_node_attributes(got_graph, partition_greedy, \"community_greedy\")"
      ],
      "execution_count": null,
      "outputs": []
    },
    {
      "cell_type": "code",
      "metadata": {
        "id": "MPH57IG2anX1"
      },
      "source": [
        "nx.write_gexf(G=got_graph,path=\"got_graph.gexf\")"
      ],
      "execution_count": null,
      "outputs": []
    },
    {
      "cell_type": "markdown",
      "metadata": {
        "id": "Tx0NzYDhanX2"
      },
      "source": [
        "### Communitiy detection with Louvain Algorithm"
      ]
    },
    {
      "cell_type": "code",
      "metadata": {
        "id": "zSlemfDZanX2"
      },
      "source": [
        "import community as community_louvain\n",
        "import matplotlib.cm as cm"
      ],
      "execution_count": null,
      "outputs": []
    },
    {
      "cell_type": "code",
      "metadata": {
        "id": "qJxEJtlbanX3"
      },
      "source": [
        "partition_library = community_louvain.best_partition(got_graph)"
      ],
      "execution_count": null,
      "outputs": []
    },
    {
      "cell_type": "code",
      "metadata": {
        "id": "9tLA3Vp_anX3",
        "outputId": "792f65d9-e5db-4bca-d22e-643509cfa37e"
      },
      "source": [
        "print(partition_library)"
      ],
      "execution_count": null,
      "outputs": [
        {
          "output_type": "stream",
          "text": [
            "{'Aemon': 0, 'Grenn': 0, 'Samwell': 0, 'Aerys': 1, 'Jaime': 1, 'Robert': 2, 'Tyrion': 1, 'Tywin': 1, 'Alliser': 0, 'Mance': 0, 'Amory': 1, 'Oberyn': 1, 'Arya': 2, 'Anguy': 2, 'Beric': 2, 'Bran': 3, 'Brynden': 4, 'Cersei': 1, 'Gendry': 2, 'Gregor': 1, 'Joffrey': 1, 'Jon': 0, 'Rickon': 3, 'Roose': 4, 'Sandor': 2, 'Thoros': 2, 'Balon': 1, 'Loras': 1, 'Belwas': 5, 'Barristan': 5, 'Illyrio': 5, 'Hodor': 3, 'Jojen': 3, 'Luwin': 3, 'Meera': 3, 'Nan': 3, 'Theon': 3, 'Brienne': 4, 'Bronn': 1, 'Podrick': 1, 'Lothar': 4, 'Walder': 4, 'Catelyn': 4, 'Edmure': 4, 'Hoster': 4, 'Jeyne': 4, 'Lysa': 4, 'Petyr': 4, 'Robb': 4, 'Roslin': 4, 'Sansa': 1, 'Stannis': 0, 'Elia': 1, 'Ilyn': 1, 'Meryn': 1, 'Pycelle': 1, 'Shae': 1, 'Varys': 1, 'Craster': 0, 'Karl': 0, 'Daario': 5, 'Drogo': 5, 'Irri': 5, 'Daenerys': 5, 'Aegon': 5, 'Jorah': 5, 'Kraznys': 5, 'Missandei': 5, 'Rakharo': 5, 'Rhaegar': 5, 'Viserys': 5, 'Worm': 5, 'Davos': 0, 'Cressen': 0, 'Salladhor': 0, 'Eddard': 2, 'Eddison': 0, 'Gilly': 0, 'Qyburn': 1, 'Renly': 1, 'Tommen': 1, 'Janos': 0, 'Bowen': 0, 'Kevan': 1, 'Margaery': 1, 'Myrcella': 1, 'Dalla': 0, 'Melisandre': 0, 'Orell': 0, 'Qhorin': 0, 'Rattleshirt': 0, 'Styr': 0, 'Val': 0, 'Ygritte': 0, 'Jon Arryn': 4, 'Lancel': 1, 'Olenna': 1, 'Marillion': 4, 'Robert Arryn': 4, 'Ellaria': 1, 'Mace': 1, 'Rickard': 4, 'Ramsay': 4, 'Chataya': 1, 'Shireen': 0, 'Doran': 1, 'Walton': 1}\n"
          ],
          "name": "stdout"
        }
      ]
    },
    {
      "cell_type": "code",
      "metadata": {
        "id": "NcplwxfXanX4"
      },
      "source": [
        "nx.set_node_attributes(got_graph, partition_library, \"community_library\")"
      ],
      "execution_count": null,
      "outputs": []
    },
    {
      "cell_type": "code",
      "metadata": {
        "id": "9P2-sKVvanX5"
      },
      "source": [
        "nx.write_gexf(G=got_graph,path=\"got_graph.gexf\")"
      ],
      "execution_count": null,
      "outputs": []
    },
    {
      "cell_type": "code",
      "metadata": {
        "id": "UFfWvXR9anX5",
        "outputId": "85185a50-b800-4771-af23-c9b11e24b7bb"
      },
      "source": [
        "# draw the graph with partition_greedy\n",
        "pos = nx.spring_layout(got_graph)\n",
        "\n",
        "cmap = cm.get_cmap('viridis', max(partition_greedy.values()) + 1)\n",
        "nx.draw_networkx_nodes(got_graph, pos, partition_greedy.keys(), node_size=40,\n",
        "                       cmap=cmap, node_color=list(partition_greedy.values()))\n",
        "nx.draw_networkx_edges(got_graph, pos, alpha=0.5)\n",
        "plt.show()"
      ],
      "execution_count": null,
      "outputs": [
        {
          "output_type": "display_data",
          "data": {
            "image/png": "[encoded data removed]",
            "text/plain": [
              "<Figure size 432x288 with 1 Axes>"
            ]
          },
          "metadata": {
            "tags": []
          }
        }
      ]
    },
    {
      "cell_type": "code",
      "metadata": {
        "id": "oOu8cdJEanX6",
        "outputId": "eeb127b5-bfc9-4760-8853-321707573c04"
      },
      "source": [
        "# draw the graph with partition_library\n",
        "pos = nx.spring_layout(got_graph)\n",
        "\n",
        "cmap = cm.get_cmap('viridis', max(partition_library.values()) + 1)\n",
        "nx.draw_networkx_nodes(got_graph, pos, partition_library.keys(), node_size=40,\n",
        "                       cmap=cmap, node_color=list(partition_library.values()))\n",
        "nx.draw_networkx_edges(got_graph, pos, alpha=0.5)\n",
        "plt.show()"
      ],
      "execution_count": null,
      "outputs": [
        {
          "output_type": "display_data",
          "data": {
            "image/png": "[encoded data removed]",
            "text/plain": [
              "<Figure size 432x288 with 1 Axes>"
            ]
          },
          "metadata": {
            "tags": []
          }
        }
      ]
    },
    {
      "cell_type": "markdown",
      "metadata": {
        "id": "k2tzuFVRanX7"
      },
      "source": [
        "### Communities ---EVALUATION"
      ]
    },
    {
      "cell_type": "code",
      "metadata": {
        "id": "XOctvZNXanX7",
        "outputId": "b40eba7b-ce41-4ffc-a55c-16307592030c"
      },
      "source": [
        "comms = set(partition_library.values())\n",
        "comms"
      ],
      "execution_count": null,
      "outputs": [
        {
          "output_type": "execute_result",
          "data": {
            "text/plain": [
              "{0, 1, 2, 3, 4, 5}"
            ]
          },
          "metadata": {
            "tags": []
          },
          "execution_count": 55
        }
      ]
    },
    {
      "cell_type": "code",
      "metadata": {
        "id": "glz6s3TdanX8"
      },
      "source": [
        "list_community_sets_library = [ set() for i in range(len(comms)) ]"
      ],
      "execution_count": null,
      "outputs": []
    },
    {
      "cell_type": "code",
      "metadata": {
        "id": "cPFMDnTFanX8",
        "outputId": "7cda50b5-68b5-43be-85c6-f57cc8be44c1"
      },
      "source": [
        "for n, comm in partition_library.items():\n",
        "    list_community_sets_library[comm].add(n)\n",
        "\n",
        "list_community_sets_library"
      ],
      "execution_count": null,
      "outputs": [
        {
          "output_type": "execute_result",
          "data": {
            "text/plain": [
              "[{'Aemon',\n",
              "  'Alliser',\n",
              "  'Bowen',\n",
              "  'Craster',\n",
              "  'Cressen',\n",
              "  'Dalla',\n",
              "  'Davos',\n",
              "  'Eddison',\n",
              "  'Gilly',\n",
              "  'Grenn',\n",
              "  'Janos',\n",
              "  'Jon',\n",
              "  'Karl',\n",
              "  'Mance',\n",
              "  'Melisandre',\n",
              "  'Orell',\n",
              "  'Qhorin',\n",
              "  'Rattleshirt',\n",
              "  'Salladhor',\n",
              "  'Samwell',\n",
              "  'Shireen',\n",
              "  'Stannis',\n",
              "  'Styr',\n",
              "  'Val',\n",
              "  'Ygritte'},\n",
              " {'Aerys',\n",
              "  'Amory',\n",
              "  'Balon',\n",
              "  'Bronn',\n",
              "  'Cersei',\n",
              "  'Chataya',\n",
              "  'Doran',\n",
              "  'Elia',\n",
              "  'Ellaria',\n",
              "  'Gregor',\n",
              "  'Ilyn',\n",
              "  'Jaime',\n",
              "  'Joffrey',\n",
              "  'Kevan',\n",
              "  'Lancel',\n",
              "  'Loras',\n",
              "  'Mace',\n",
              "  'Margaery',\n",
              "  'Meryn',\n",
              "  'Myrcella',\n",
              "  'Oberyn',\n",
              "  'Olenna',\n",
              "  'Podrick',\n",
              "  'Pycelle',\n",
              "  'Qyburn',\n",
              "  'Renly',\n",
              "  'Sansa',\n",
              "  'Shae',\n",
              "  'Tommen',\n",
              "  'Tyrion',\n",
              "  'Tywin',\n",
              "  'Varys',\n",
              "  'Walton'},\n",
              " {'Anguy', 'Arya', 'Beric', 'Eddard', 'Gendry', 'Robert', 'Sandor', 'Thoros'},\n",
              " {'Bran', 'Hodor', 'Jojen', 'Luwin', 'Meera', 'Nan', 'Rickon', 'Theon'},\n",
              " {'Brienne',\n",
              "  'Brynden',\n",
              "  'Catelyn',\n",
              "  'Edmure',\n",
              "  'Hoster',\n",
              "  'Jeyne',\n",
              "  'Jon Arryn',\n",
              "  'Lothar',\n",
              "  'Lysa',\n",
              "  'Marillion',\n",
              "  'Petyr',\n",
              "  'Ramsay',\n",
              "  'Rickard',\n",
              "  'Robb',\n",
              "  'Robert Arryn',\n",
              "  'Roose',\n",
              "  'Roslin',\n",
              "  'Walder'},\n",
              " {'Aegon',\n",
              "  'Barristan',\n",
              "  'Belwas',\n",
              "  'Daario',\n",
              "  'Daenerys',\n",
              "  'Drogo',\n",
              "  'Illyrio',\n",
              "  'Irri',\n",
              "  'Jorah',\n",
              "  'Kraznys',\n",
              "  'Missandei',\n",
              "  'Rakharo',\n",
              "  'Rhaegar',\n",
              "  'Viserys',\n",
              "  'Worm'}]"
            ]
          },
          "metadata": {
            "tags": []
          },
          "execution_count": 57
        }
      ]
    },
    {
      "cell_type": "code",
      "metadata": {
        "id": "Yw3z7IY3anX-",
        "outputId": "dc9a3c7b-e9cf-4783-a0a2-ae43213f15d8"
      },
      "source": [
        "for my_list in [list_com_sets_greedy,  list_community_sets_library]:\n",
        "    \n",
        "    #print(\"Coverage\")\n",
        "    print(\"Coverage\", nx_comm.coverage(got_graph, my_list))\n",
        "    #print(\"Modularity\")\n",
        "    print(\"Modularity\", nx_comm.modularity(got_graph, my_list, weight='weight'))\n",
        "    #print(\"Performance\")\n",
        "    print(\"Performance\", nx_comm.performance(got_graph, my_list))\n",
        "    \n",
        "    print(\"---\")"
      ],
      "execution_count": null,
      "outputs": [
        {
          "output_type": "stream",
          "text": [
            "Coverage 0.7301136363636364\n",
            "Modularity 0.45843152763429673\n",
            "Performance 0.7921001587021689\n",
            "---\n",
            "Coverage 0.7301136363636364\n",
            "Modularity 0.49333354855371847\n",
            "Performance 0.8271909716099454\n",
            "---\n"
          ],
          "name": "stdout"
        }
      ]
    },
    {
      "cell_type": "markdown",
      "metadata": {
        "id": "JWrsW2RwanX_"
      },
      "source": [
        "### Communitiy detection with k_clique_communities \n",
        "for overlapping communities"
      ]
    },
    {
      "cell_type": "code",
      "metadata": {
        "id": "Mkpaz7bUanYA"
      },
      "source": [
        "from networkx.algorithms.community import k_clique_communities"
      ],
      "execution_count": null,
      "outputs": []
    },
    {
      "cell_type": "code",
      "metadata": {
        "id": "jf70AI34anYA",
        "outputId": "7dbc9a5b-58b9-4037-deda-f0210134aec1"
      },
      "source": [
        "print(\"min size: 4\", list(nx_comm.k_clique_communities(got_graph, 4)) ) # k (int) – Size of smallest clique)\n",
        "print('---------------')\n",
        "print(\"min size: 6\", list(nx_comm.k_clique_communities(got_graph, 6)) ) # k (int) – Size of smallest clique)"
      ],
      "execution_count": null,
      "outputs": [
        {
          "output_type": "stream",
          "text": [
            "min size: 4 [frozenset({'Daario', 'Drogo', 'Irri', 'Daenerys', 'Jorah'}), frozenset({'Catelyn', 'Podrick', 'Brienne', 'Tywin', 'Robert', 'Pycelle', 'Oberyn', 'Arya', 'Sandor', 'Lothar', 'Balon', 'Meryn', 'Ilyn', 'Robb', 'Rickon', 'Myrcella', 'Gendry', 'Tyrion', 'Sansa', 'Roslin', 'Roose', 'Cersei', 'Eddard', 'Bran', 'Mace', 'Renly', 'Beric', 'Bronn', 'Thoros', 'Varys', 'Jon', 'Theon', 'Margaery', 'Walder', 'Elia', 'Joffrey', 'Gregor', 'Shae', 'Loras', 'Brynden', 'Lysa', 'Tommen', 'Edmure', 'Petyr', 'Stannis', 'Jaime', 'Aerys', 'Kevan'}), frozenset({'Mance', 'Qhorin', 'Alliser', 'Rattleshirt', 'Jon', 'Samwell', 'Gilly', 'Craster', 'Ygritte', 'Janos'}), frozenset({'Robert', 'Belwas', 'Barristan', 'Daenerys', 'Jorah', 'Rhaegar'}), frozenset({'Grenn', 'Jon', 'Robert', 'Samwell', 'Eddison', 'Aemon', 'Stannis', 'Melisandre'}), frozenset({'Lysa', 'Robert Arryn', 'Marillion', 'Sansa'}), frozenset({'Hodor', 'Jon', 'Samwell', 'Bran', 'Meera', 'Jojen'}), frozenset({'Jon', 'Val', 'Dalla', 'Mance'})]\n",
            "---------------\n",
            "min size: 6 [frozenset({'Sansa', 'Jon', 'Eddard', 'Arya', 'Bran', 'Robb', 'Rickon'}), frozenset({'Tywin', 'Robert', 'Arya', 'Joffrey', 'Sandor', 'Meryn', 'Ilyn', 'Robb', 'Gregor', 'Tyrion', 'Sansa', 'Cersei', 'Eddard', 'Jaime'}), frozenset({'Tyrion', 'Tywin', 'Joffrey', 'Stannis', 'Balon', 'Jaime', 'Robb'})]\n"
          ],
          "name": "stdout"
        }
      ]
    },
    {
      "cell_type": "code",
      "metadata": {
        "id": "0mx3c3-vanYA"
      },
      "source": [
        "list_community_sets_kclique = nx_comm.k_clique_communities(got_graph, 4)"
      ],
      "execution_count": null,
      "outputs": []
    },
    {
      "cell_type": "code",
      "metadata": {
        "id": "I8xvQjuranYB",
        "outputId": "58127f62-b0cc-4bdb-c895-13d091e6b0ce"
      },
      "source": [
        "map_4clique = {}\n",
        "\n",
        "for i, kclique in enumerate(list_community_sets_kclique):\n",
        "    print(\"Community:\", i)\n",
        "    print(i,kclique)\n",
        "    for n in kclique:\n",
        "        map_4clique[n]=i"
      ],
      "execution_count": null,
      "outputs": [
        {
          "output_type": "stream",
          "text": [
            "Community: 0\n",
            "0 frozenset({'Daario', 'Drogo', 'Irri', 'Daenerys', 'Jorah'})\n",
            "Community: 1\n",
            "1 frozenset({'Catelyn', 'Podrick', 'Brienne', 'Tywin', 'Robert', 'Pycelle', 'Oberyn', 'Arya', 'Sandor', 'Lothar', 'Balon', 'Meryn', 'Ilyn', 'Robb', 'Rickon', 'Myrcella', 'Gendry', 'Tyrion', 'Sansa', 'Roslin', 'Roose', 'Cersei', 'Eddard', 'Bran', 'Mace', 'Renly', 'Beric', 'Bronn', 'Thoros', 'Varys', 'Jon', 'Theon', 'Margaery', 'Walder', 'Elia', 'Joffrey', 'Gregor', 'Shae', 'Loras', 'Brynden', 'Lysa', 'Tommen', 'Edmure', 'Petyr', 'Stannis', 'Jaime', 'Aerys', 'Kevan'})\n",
            "Community: 2\n",
            "2 frozenset({'Mance', 'Qhorin', 'Alliser', 'Rattleshirt', 'Jon', 'Samwell', 'Gilly', 'Craster', 'Ygritte', 'Janos'})\n",
            "Community: 3\n",
            "3 frozenset({'Robert', 'Belwas', 'Barristan', 'Daenerys', 'Jorah', 'Rhaegar'})\n",
            "Community: 4\n",
            "4 frozenset({'Grenn', 'Jon', 'Robert', 'Samwell', 'Eddison', 'Aemon', 'Stannis', 'Melisandre'})\n",
            "Community: 5\n",
            "5 frozenset({'Lysa', 'Robert Arryn', 'Marillion', 'Sansa'})\n",
            "Community: 6\n",
            "6 frozenset({'Hodor', 'Jon', 'Samwell', 'Bran', 'Meera', 'Jojen'})\n",
            "Community: 7\n",
            "7 frozenset({'Jon', 'Val', 'Dalla', 'Mance'})\n"
          ],
          "name": "stdout"
        }
      ]
    },
    {
      "cell_type": "code",
      "metadata": {
        "id": "uEsq4GDFanYB",
        "outputId": "181e1e43-cb94-4c1b-a910-23b99fea322c"
      },
      "source": [
        "map_4clique"
      ],
      "execution_count": null,
      "outputs": [
        {
          "output_type": "execute_result",
          "data": {
            "text/plain": [
              "{'Daario': 0,\n",
              " 'Drogo': 0,\n",
              " 'Irri': 0,\n",
              " 'Daenerys': 3,\n",
              " 'Jorah': 3,\n",
              " 'Catelyn': 1,\n",
              " 'Podrick': 1,\n",
              " 'Brienne': 1,\n",
              " 'Tywin': 1,\n",
              " 'Robert': 4,\n",
              " 'Pycelle': 1,\n",
              " 'Oberyn': 1,\n",
              " 'Arya': 1,\n",
              " 'Sandor': 1,\n",
              " 'Lothar': 1,\n",
              " 'Balon': 1,\n",
              " 'Meryn': 1,\n",
              " 'Ilyn': 1,\n",
              " 'Robb': 1,\n",
              " 'Rickon': 1,\n",
              " 'Myrcella': 1,\n",
              " 'Gendry': 1,\n",
              " 'Tyrion': 1,\n",
              " 'Sansa': 5,\n",
              " 'Roslin': 1,\n",
              " 'Roose': 1,\n",
              " 'Cersei': 1,\n",
              " 'Eddard': 1,\n",
              " 'Bran': 6,\n",
              " 'Mace': 1,\n",
              " 'Renly': 1,\n",
              " 'Beric': 1,\n",
              " 'Bronn': 1,\n",
              " 'Thoros': 1,\n",
              " 'Varys': 1,\n",
              " 'Jon': 7,\n",
              " 'Theon': 1,\n",
              " 'Margaery': 1,\n",
              " 'Walder': 1,\n",
              " 'Elia': 1,\n",
              " 'Joffrey': 1,\n",
              " 'Gregor': 1,\n",
              " 'Shae': 1,\n",
              " 'Loras': 1,\n",
              " 'Brynden': 1,\n",
              " 'Lysa': 5,\n",
              " 'Tommen': 1,\n",
              " 'Edmure': 1,\n",
              " 'Petyr': 1,\n",
              " 'Stannis': 4,\n",
              " 'Jaime': 1,\n",
              " 'Aerys': 1,\n",
              " 'Kevan': 1,\n",
              " 'Mance': 7,\n",
              " 'Qhorin': 2,\n",
              " 'Alliser': 2,\n",
              " 'Rattleshirt': 2,\n",
              " 'Samwell': 6,\n",
              " 'Gilly': 2,\n",
              " 'Craster': 2,\n",
              " 'Ygritte': 2,\n",
              " 'Janos': 2,\n",
              " 'Belwas': 3,\n",
              " 'Barristan': 3,\n",
              " 'Rhaegar': 3,\n",
              " 'Grenn': 4,\n",
              " 'Eddison': 4,\n",
              " 'Aemon': 4,\n",
              " 'Melisandre': 4,\n",
              " 'Robert Arryn': 5,\n",
              " 'Marillion': 5,\n",
              " 'Hodor': 6,\n",
              " 'Meera': 6,\n",
              " 'Jojen': 6,\n",
              " 'Val': 7,\n",
              " 'Dalla': 7}"
            ]
          },
          "metadata": {
            "tags": []
          },
          "execution_count": 63
        }
      ]
    },
    {
      "cell_type": "code",
      "metadata": {
        "id": "AFeFAQbCanYC"
      },
      "source": [
        "nx.set_node_attributes(got_graph, map_4clique, \"k4_clique_communities\")"
      ],
      "execution_count": null,
      "outputs": []
    },
    {
      "cell_type": "code",
      "metadata": {
        "id": "z34OJxcfanYC",
        "outputId": "b41aaacd-dce2-4239-8c5c-2e2100a17eca"
      },
      "source": [
        "list_community_sets_kclique = nx_comm.k_clique_communities(got_graph, 6)\n",
        "\n",
        "map_6clique = {}\n",
        "\n",
        "for i, kclique in enumerate(list_community_sets_kclique):\n",
        "    print(\"Community:\", i)\n",
        "    print(i,kclique)\n",
        "    for n in kclique:\n",
        "        map_6clique[n]=i\n",
        "nx.set_node_attributes(got_graph, map_6clique, \"k6_clique_communities\")"
      ],
      "execution_count": null,
      "outputs": [
        {
          "output_type": "stream",
          "text": [
            "Community: 0\n",
            "0 frozenset({'Sansa', 'Jon', 'Eddard', 'Arya', 'Bran', 'Robb', 'Rickon'})\n",
            "Community: 1\n",
            "1 frozenset({'Tywin', 'Robert', 'Arya', 'Joffrey', 'Sandor', 'Meryn', 'Ilyn', 'Robb', 'Gregor', 'Tyrion', 'Sansa', 'Cersei', 'Eddard', 'Jaime'})\n",
            "Community: 2\n",
            "2 frozenset({'Tyrion', 'Tywin', 'Joffrey', 'Stannis', 'Balon', 'Jaime', 'Robb'})\n"
          ],
          "name": "stdout"
        }
      ]
    },
    {
      "cell_type": "code",
      "metadata": {
        "id": "wgj6UA_7anYD"
      },
      "source": [
        "nx.write_gexf(G=got_graph,path=\"got_graph.gexf\")"
      ],
      "execution_count": null,
      "outputs": []
    },
    {
      "cell_type": "markdown",
      "metadata": {
        "id": "peeWA55YanYD"
      },
      "source": [
        "### Size distribution of communities"
      ]
    },
    {
      "cell_type": "code",
      "metadata": {
        "id": "O2HbFe_2anYD",
        "outputId": "22c865d0-78f5-435d-b431-617d6208e034"
      },
      "source": [
        "list_community_sets_library"
      ],
      "execution_count": null,
      "outputs": [
        {
          "output_type": "execute_result",
          "data": {
            "text/plain": [
              "[{'Aemon',\n",
              "  'Alliser',\n",
              "  'Bowen',\n",
              "  'Craster',\n",
              "  'Cressen',\n",
              "  'Dalla',\n",
              "  'Davos',\n",
              "  'Eddison',\n",
              "  'Gilly',\n",
              "  'Grenn',\n",
              "  'Janos',\n",
              "  'Jon',\n",
              "  'Karl',\n",
              "  'Mance',\n",
              "  'Melisandre',\n",
              "  'Orell',\n",
              "  'Qhorin',\n",
              "  'Rattleshirt',\n",
              "  'Salladhor',\n",
              "  'Samwell',\n",
              "  'Shireen',\n",
              "  'Stannis',\n",
              "  'Styr',\n",
              "  'Val',\n",
              "  'Ygritte'},\n",
              " {'Aerys',\n",
              "  'Amory',\n",
              "  'Balon',\n",
              "  'Bronn',\n",
              "  'Cersei',\n",
              "  'Chataya',\n",
              "  'Doran',\n",
              "  'Elia',\n",
              "  'Ellaria',\n",
              "  'Gregor',\n",
              "  'Ilyn',\n",
              "  'Jaime',\n",
              "  'Joffrey',\n",
              "  'Kevan',\n",
              "  'Lancel',\n",
              "  'Loras',\n",
              "  'Mace',\n",
              "  'Margaery',\n",
              "  'Meryn',\n",
              "  'Myrcella',\n",
              "  'Oberyn',\n",
              "  'Olenna',\n",
              "  'Podrick',\n",
              "  'Pycelle',\n",
              "  'Qyburn',\n",
              "  'Renly',\n",
              "  'Sansa',\n",
              "  'Shae',\n",
              "  'Tommen',\n",
              "  'Tyrion',\n",
              "  'Tywin',\n",
              "  'Varys',\n",
              "  'Walton'},\n",
              " {'Anguy', 'Arya', 'Beric', 'Eddard', 'Gendry', 'Robert', 'Sandor', 'Thoros'},\n",
              " {'Bran', 'Hodor', 'Jojen', 'Luwin', 'Meera', 'Nan', 'Rickon', 'Theon'},\n",
              " {'Brienne',\n",
              "  'Brynden',\n",
              "  'Catelyn',\n",
              "  'Edmure',\n",
              "  'Hoster',\n",
              "  'Jeyne',\n",
              "  'Jon Arryn',\n",
              "  'Lothar',\n",
              "  'Lysa',\n",
              "  'Marillion',\n",
              "  'Petyr',\n",
              "  'Ramsay',\n",
              "  'Rickard',\n",
              "  'Robb',\n",
              "  'Robert Arryn',\n",
              "  'Roose',\n",
              "  'Roslin',\n",
              "  'Walder'},\n",
              " {'Aegon',\n",
              "  'Barristan',\n",
              "  'Belwas',\n",
              "  'Daario',\n",
              "  'Daenerys',\n",
              "  'Drogo',\n",
              "  'Illyrio',\n",
              "  'Irri',\n",
              "  'Jorah',\n",
              "  'Kraznys',\n",
              "  'Missandei',\n",
              "  'Rakharo',\n",
              "  'Rhaegar',\n",
              "  'Viserys',\n",
              "  'Worm'}]"
            ]
          },
          "metadata": {
            "tags": []
          },
          "execution_count": 67
        }
      ]
    },
    {
      "cell_type": "code",
      "metadata": {
        "id": "5rCLibFAanYE",
        "outputId": "a3333694-46c8-45bd-d2d0-3fdd531e5c8b"
      },
      "source": [
        "pairs = []\n",
        "for index, nodes in enumerate(list_community_sets_library):\n",
        "    print(index,len(nodes))\n",
        "    comm_size = (index,len(nodes))\n",
        "    pairs.append(comm_size)"
      ],
      "execution_count": null,
      "outputs": [
        {
          "output_type": "stream",
          "text": [
            "0 25\n",
            "1 33\n",
            "2 8\n",
            "3 8\n",
            "4 18\n",
            "5 15\n"
          ],
          "name": "stdout"
        }
      ]
    },
    {
      "cell_type": "code",
      "metadata": {
        "id": "bTzTdOURanYE",
        "outputId": "936539c6-c2de-4e88-d9dd-116c34fb494f"
      },
      "source": [
        "pairs"
      ],
      "execution_count": null,
      "outputs": [
        {
          "output_type": "execute_result",
          "data": {
            "text/plain": [
              "[(0, 25), (1, 33), (2, 8), (3, 8), (4, 18), (5, 15)]"
            ]
          },
          "metadata": {
            "tags": []
          },
          "execution_count": 69
        }
      ]
    },
    {
      "cell_type": "code",
      "metadata": {
        "id": "Kx5CchqVanYF",
        "outputId": "57324154-62b9-45cc-82c8-a85f82882022"
      },
      "source": [
        "community_index = []\n",
        "number_of_nodes = []\n",
        "\n",
        "for index, n in pairs:\n",
        "    community_index.append(str(index))\n",
        "    number_of_nodes.append(n)   \n",
        "    \n",
        "    \n",
        "plt.bar(community_index,number_of_nodes)\n",
        "plt.xlabel(\"Community\")\n",
        "plt.ylabel(\"Number of nodes\")"
      ],
      "execution_count": null,
      "outputs": [
        {
          "output_type": "execute_result",
          "data": {
            "text/plain": [
              "Text(0, 0.5, 'Number of nodes')"
            ]
          },
          "metadata": {
            "tags": []
          },
          "execution_count": 70
        },
        {
          "output_type": "display_data",
          "data": {
            "image/png": "[encoded data removed]",
            "text/plain": [
              "<Figure size 432x288 with 1 Axes>"
            ]
          },
          "metadata": {
            "tags": [],
            "needs_background": "light"
          }
        }
      ]
    },
    {
      "cell_type": "markdown",
      "metadata": {
        "id": "M07M72nlanYF"
      },
      "source": [
        "### Centrality in communities"
      ]
    },
    {
      "cell_type": "code",
      "metadata": {
        "id": "a0BYhKd_anYG",
        "outputId": "65dbc533-cc14-4962-c93e-24698ca47c4a"
      },
      "source": [
        "list_community_sets_library"
      ],
      "execution_count": null,
      "outputs": [
        {
          "output_type": "execute_result",
          "data": {
            "text/plain": [
              "[{'Aemon',\n",
              "  'Alliser',\n",
              "  'Bowen',\n",
              "  'Craster',\n",
              "  'Cressen',\n",
              "  'Dalla',\n",
              "  'Davos',\n",
              "  'Eddison',\n",
              "  'Gilly',\n",
              "  'Grenn',\n",
              "  'Janos',\n",
              "  'Jon',\n",
              "  'Karl',\n",
              "  'Mance',\n",
              "  'Melisandre',\n",
              "  'Orell',\n",
              "  'Qhorin',\n",
              "  'Rattleshirt',\n",
              "  'Salladhor',\n",
              "  'Samwell',\n",
              "  'Shireen',\n",
              "  'Stannis',\n",
              "  'Styr',\n",
              "  'Val',\n",
              "  'Ygritte'},\n",
              " {'Aerys',\n",
              "  'Amory',\n",
              "  'Balon',\n",
              "  'Bronn',\n",
              "  'Cersei',\n",
              "  'Chataya',\n",
              "  'Doran',\n",
              "  'Elia',\n",
              "  'Ellaria',\n",
              "  'Gregor',\n",
              "  'Ilyn',\n",
              "  'Jaime',\n",
              "  'Joffrey',\n",
              "  'Kevan',\n",
              "  'Lancel',\n",
              "  'Loras',\n",
              "  'Mace',\n",
              "  'Margaery',\n",
              "  'Meryn',\n",
              "  'Myrcella',\n",
              "  'Oberyn',\n",
              "  'Olenna',\n",
              "  'Podrick',\n",
              "  'Pycelle',\n",
              "  'Qyburn',\n",
              "  'Renly',\n",
              "  'Sansa',\n",
              "  'Shae',\n",
              "  'Tommen',\n",
              "  'Tyrion',\n",
              "  'Tywin',\n",
              "  'Varys',\n",
              "  'Walton'},\n",
              " {'Anguy', 'Arya', 'Beric', 'Eddard', 'Gendry', 'Robert', 'Sandor', 'Thoros'},\n",
              " {'Bran', 'Hodor', 'Jojen', 'Luwin', 'Meera', 'Nan', 'Rickon', 'Theon'},\n",
              " {'Brienne',\n",
              "  'Brynden',\n",
              "  'Catelyn',\n",
              "  'Edmure',\n",
              "  'Hoster',\n",
              "  'Jeyne',\n",
              "  'Jon Arryn',\n",
              "  'Lothar',\n",
              "  'Lysa',\n",
              "  'Marillion',\n",
              "  'Petyr',\n",
              "  'Ramsay',\n",
              "  'Rickard',\n",
              "  'Robb',\n",
              "  'Robert Arryn',\n",
              "  'Roose',\n",
              "  'Roslin',\n",
              "  'Walder'},\n",
              " {'Aegon',\n",
              "  'Barristan',\n",
              "  'Belwas',\n",
              "  'Daario',\n",
              "  'Daenerys',\n",
              "  'Drogo',\n",
              "  'Illyrio',\n",
              "  'Irri',\n",
              "  'Jorah',\n",
              "  'Kraznys',\n",
              "  'Missandei',\n",
              "  'Rakharo',\n",
              "  'Rhaegar',\n",
              "  'Viserys',\n",
              "  'Worm'}]"
            ]
          },
          "metadata": {
            "tags": []
          },
          "execution_count": 71
        }
      ]
    },
    {
      "cell_type": "code",
      "metadata": {
        "id": "poGievqzanYI",
        "outputId": "f518d630-e4e8-4273-c725-318b4e96d68b"
      },
      "source": [
        "for comm in list_community_sets_library:\n",
        "    subgraph = got_graph.subgraph(comm)\n",
        "    print(subgraph.order())"
      ],
      "execution_count": null,
      "outputs": [
        {
          "output_type": "stream",
          "text": [
            "25\n",
            "33\n",
            "8\n",
            "8\n",
            "18\n",
            "15\n"
          ],
          "name": "stdout"
        }
      ]
    },
    {
      "cell_type": "code",
      "metadata": {
        "id": "aNDdG1KqanYK"
      },
      "source": [
        "centr_comm = {}\n",
        "# node -> centrality in the community subgraph"
      ],
      "execution_count": null,
      "outputs": []
    },
    {
      "cell_type": "code",
      "metadata": {
        "id": "He2Fb3dVanYK",
        "outputId": "b9335ffa-5889-471f-9467-5c9b3b591bb5"
      },
      "source": [
        "for comm in list_community_sets_library:\n",
        "    subgraph = got_graph.subgraph(comm)\n",
        "    print(subgraph.order())\n",
        "    print(nx.degree_centrality(subgraph))\n",
        "    print(\"---\")\n",
        "    \n",
        "    node_degrees  = nx.degree_centrality(subgraph)\n",
        "    for n,d in node_degrees.items():\n",
        "        centr_comm[n] = d"
      ],
      "execution_count": null,
      "outputs": [
        {
          "output_type": "stream",
          "text": [
            "25\n",
            "{'Rattleshirt': 0.16666666666666666, 'Karl': 0.041666666666666664, 'Orell': 0.041666666666666664, 'Ygritte': 0.16666666666666666, 'Alliser': 0.125, 'Grenn': 0.16666666666666666, 'Eddison': 0.125, 'Cressen': 0.041666666666666664, 'Gilly': 0.16666666666666666, 'Styr': 0.08333333333333333, 'Craster': 0.20833333333333331, 'Dalla': 0.125, 'Melisandre': 0.16666666666666666, 'Janos': 0.20833333333333331, 'Davos': 0.20833333333333331, 'Jon': 0.75, 'Samwell': 0.5, 'Mance': 0.5, 'Qhorin': 0.20833333333333331, 'Salladhor': 0.041666666666666664, 'Aemon': 0.16666666666666666, 'Val': 0.125, 'Shireen': 0.041666666666666664, 'Stannis': 0.20833333333333331, 'Bowen': 0.08333333333333333}\n",
            "---\n",
            "33\n",
            "{'Doran': 0.03125, 'Podrick': 0.15625, 'Tywin': 0.4375, 'Pycelle': 0.125, 'Oberyn': 0.21875, 'Chataya': 0.0625, 'Balon': 0.125, 'Meryn': 0.1875, 'Ilyn': 0.15625, 'Myrcella': 0.125, 'Amory': 0.03125, 'Tyrion': 0.8125, 'Sansa': 0.375, 'Cersei': 0.40625, 'Mace': 0.09375, 'Renly': 0.1875, 'Qyburn': 0.03125, 'Olenna': 0.0625, 'Bronn': 0.125, 'Walton': 0.03125, 'Varys': 0.21875, 'Margaery': 0.21875, 'Elia': 0.125, 'Joffrey': 0.4375, 'Ellaria': 0.0625, 'Gregor': 0.3125, 'Lancel': 0.03125, 'Shae': 0.15625, 'Loras': 0.25, 'Tommen': 0.15625, 'Jaime': 0.46875, 'Aerys': 0.09375, 'Kevan': 0.1875}\n",
            "---\n",
            "8\n",
            "{'Gendry': 0.5714285714285714, 'Robert': 0.5714285714285714, 'Eddard': 0.5714285714285714, 'Arya': 1.0, 'Sandor': 0.8571428571428571, 'Beric': 0.8571428571428571, 'Thoros': 0.7142857142857142, 'Anguy': 0.2857142857142857}\n",
            "---\n",
            "8\n",
            "{'Hodor': 0.42857142857142855, 'Theon': 0.2857142857142857, 'Bran': 1.0, 'Meera': 0.42857142857142855, 'Jojen': 0.42857142857142855, 'Luwin': 0.2857142857142857, 'Rickon': 0.2857142857142857, 'Nan': 0.2857142857142857}\n",
            "---\n",
            "18\n",
            "{'Ramsay': 0.058823529411764705, 'Catelyn': 0.6470588235294118, 'Hoster': 0.1764705882352941, 'Rickard': 0.11764705882352941, 'Roose': 0.1764705882352941, 'Jeyne': 0.11764705882352941, 'Roslin': 0.23529411764705882, 'Brienne': 0.1764705882352941, 'Brynden': 0.3529411764705882, 'Lysa': 0.3529411764705882, 'Walder': 0.4117647058823529, 'Edmure': 0.4117647058823529, 'Petyr': 0.23529411764705882, 'Jon Arryn': 0.058823529411764705, 'Robert Arryn': 0.11764705882352941, 'Robb': 0.6470588235294118, 'Lothar': 0.29411764705882354, 'Marillion': 0.11764705882352941}\n",
            "---\n",
            "15\n",
            "{'Illyrio': 0.07142857142857142, 'Kraznys': 0.07142857142857142, 'Daario': 0.2857142857142857, 'Worm': 0.07142857142857142, 'Drogo': 0.2857142857142857, 'Belwas': 0.2857142857142857, 'Barristan': 0.2857142857142857, 'Irri': 0.2857142857142857, 'Rakharo': 0.07142857142857142, 'Viserys': 0.14285714285714285, 'Daenerys': 0.9285714285714285, 'Jorah': 0.42857142857142855, 'Missandei': 0.14285714285714285, 'Rhaegar': 0.2857142857142857, 'Aegon': 0.07142857142857142}\n",
            "---\n"
          ],
          "name": "stdout"
        }
      ]
    },
    {
      "cell_type": "code",
      "metadata": {
        "collapsed": true,
        "id": "lWXAVcUAanYL",
        "outputId": "1c0f21b0-712e-48b9-e17a-d87330e926fb"
      },
      "source": [
        "centr_comm"
      ],
      "execution_count": null,
      "outputs": [
        {
          "output_type": "execute_result",
          "data": {
            "text/plain": [
              "{'Rattleshirt': 0.16666666666666666,\n",
              " 'Karl': 0.041666666666666664,\n",
              " 'Orell': 0.041666666666666664,\n",
              " 'Ygritte': 0.16666666666666666,\n",
              " 'Alliser': 0.125,\n",
              " 'Grenn': 0.16666666666666666,\n",
              " 'Eddison': 0.125,\n",
              " 'Cressen': 0.041666666666666664,\n",
              " 'Gilly': 0.16666666666666666,\n",
              " 'Styr': 0.08333333333333333,\n",
              " 'Craster': 0.20833333333333331,\n",
              " 'Dalla': 0.125,\n",
              " 'Melisandre': 0.16666666666666666,\n",
              " 'Janos': 0.20833333333333331,\n",
              " 'Davos': 0.20833333333333331,\n",
              " 'Jon': 0.75,\n",
              " 'Samwell': 0.5,\n",
              " 'Mance': 0.5,\n",
              " 'Qhorin': 0.20833333333333331,\n",
              " 'Salladhor': 0.041666666666666664,\n",
              " 'Aemon': 0.16666666666666666,\n",
              " 'Val': 0.125,\n",
              " 'Shireen': 0.041666666666666664,\n",
              " 'Stannis': 0.20833333333333331,\n",
              " 'Bowen': 0.08333333333333333,\n",
              " 'Doran': 0.03125,\n",
              " 'Podrick': 0.15625,\n",
              " 'Tywin': 0.4375,\n",
              " 'Pycelle': 0.125,\n",
              " 'Oberyn': 0.21875,\n",
              " 'Chataya': 0.0625,\n",
              " 'Balon': 0.125,\n",
              " 'Meryn': 0.1875,\n",
              " 'Ilyn': 0.15625,\n",
              " 'Myrcella': 0.125,\n",
              " 'Amory': 0.03125,\n",
              " 'Tyrion': 0.8125,\n",
              " 'Sansa': 0.375,\n",
              " 'Cersei': 0.40625,\n",
              " 'Mace': 0.09375,\n",
              " 'Renly': 0.1875,\n",
              " 'Qyburn': 0.03125,\n",
              " 'Olenna': 0.0625,\n",
              " 'Bronn': 0.125,\n",
              " 'Walton': 0.03125,\n",
              " 'Varys': 0.21875,\n",
              " 'Margaery': 0.21875,\n",
              " 'Elia': 0.125,\n",
              " 'Joffrey': 0.4375,\n",
              " 'Ellaria': 0.0625,\n",
              " 'Gregor': 0.3125,\n",
              " 'Lancel': 0.03125,\n",
              " 'Shae': 0.15625,\n",
              " 'Loras': 0.25,\n",
              " 'Tommen': 0.15625,\n",
              " 'Jaime': 0.46875,\n",
              " 'Aerys': 0.09375,\n",
              " 'Kevan': 0.1875,\n",
              " 'Gendry': 0.5714285714285714,\n",
              " 'Robert': 0.5714285714285714,\n",
              " 'Eddard': 0.5714285714285714,\n",
              " 'Arya': 1.0,\n",
              " 'Sandor': 0.8571428571428571,\n",
              " 'Beric': 0.8571428571428571,\n",
              " 'Thoros': 0.7142857142857142,\n",
              " 'Anguy': 0.2857142857142857,\n",
              " 'Hodor': 0.42857142857142855,\n",
              " 'Theon': 0.2857142857142857,\n",
              " 'Bran': 1.0,\n",
              " 'Meera': 0.42857142857142855,\n",
              " 'Jojen': 0.42857142857142855,\n",
              " 'Luwin': 0.2857142857142857,\n",
              " 'Rickon': 0.2857142857142857,\n",
              " 'Nan': 0.2857142857142857,\n",
              " 'Ramsay': 0.058823529411764705,\n",
              " 'Catelyn': 0.6470588235294118,\n",
              " 'Hoster': 0.1764705882352941,\n",
              " 'Rickard': 0.11764705882352941,\n",
              " 'Roose': 0.1764705882352941,\n",
              " 'Jeyne': 0.11764705882352941,\n",
              " 'Roslin': 0.23529411764705882,\n",
              " 'Brienne': 0.1764705882352941,\n",
              " 'Brynden': 0.3529411764705882,\n",
              " 'Lysa': 0.3529411764705882,\n",
              " 'Walder': 0.4117647058823529,\n",
              " 'Edmure': 0.4117647058823529,\n",
              " 'Petyr': 0.23529411764705882,\n",
              " 'Jon Arryn': 0.058823529411764705,\n",
              " 'Robert Arryn': 0.11764705882352941,\n",
              " 'Robb': 0.6470588235294118,\n",
              " 'Lothar': 0.29411764705882354,\n",
              " 'Marillion': 0.11764705882352941,\n",
              " 'Illyrio': 0.07142857142857142,\n",
              " 'Kraznys': 0.07142857142857142,\n",
              " 'Daario': 0.2857142857142857,\n",
              " 'Worm': 0.07142857142857142,\n",
              " 'Drogo': 0.2857142857142857,\n",
              " 'Belwas': 0.2857142857142857,\n",
              " 'Barristan': 0.2857142857142857,\n",
              " 'Irri': 0.2857142857142857,\n",
              " 'Rakharo': 0.07142857142857142,\n",
              " 'Viserys': 0.14285714285714285,\n",
              " 'Daenerys': 0.9285714285714285,\n",
              " 'Jorah': 0.42857142857142855,\n",
              " 'Missandei': 0.14285714285714285,\n",
              " 'Rhaegar': 0.2857142857142857,\n",
              " 'Aegon': 0.07142857142857142}"
            ]
          },
          "metadata": {
            "tags": []
          },
          "execution_count": 75
        }
      ]
    },
    {
      "cell_type": "code",
      "metadata": {
        "id": "cl0kXdhdanYM"
      },
      "source": [
        "nx.set_node_attributes(got_graph, centr_comm, \"centr_comm\")\n",
        "#important nodes in communites, centralities inside the community"
      ],
      "execution_count": null,
      "outputs": []
    },
    {
      "cell_type": "code",
      "metadata": {
        "id": "em_LC1-QanYM"
      },
      "source": [
        "nx.write_gexf(G=got_graph,path=\"got_graph.gexf\")"
      ],
      "execution_count": null,
      "outputs": []
    },
    {
      "cell_type": "markdown",
      "metadata": {
        "id": "RgJ5L5nEanYN"
      },
      "source": [
        "### Bridges"
      ]
    },
    {
      "cell_type": "markdown",
      "metadata": {
        "id": "hz9BDRi5anYN"
      },
      "source": [
        "Yields e (edge) – An edge in the graph whose removal disconnects the graph \n",
        "(or causes the number of connected components to increase)"
      ]
    },
    {
      "cell_type": "code",
      "metadata": {
        "id": "U6UMZJEQanYN",
        "outputId": "a630ec11-62d6-49ec-93e8-529bf67f70ce"
      },
      "source": [
        "nx.has_bridges(got_graph.to_undirected())"
      ],
      "execution_count": null,
      "outputs": [
        {
          "output_type": "execute_result",
          "data": {
            "text/plain": [
              "True"
            ]
          },
          "metadata": {
            "tags": []
          },
          "execution_count": 78
        }
      ]
    },
    {
      "cell_type": "code",
      "metadata": {
        "id": "qW2eVvXBanYO"
      },
      "source": [
        "nx.set_edge_attributes(got_graph, 0, name=\"is_bridge\")"
      ],
      "execution_count": null,
      "outputs": []
    },
    {
      "cell_type": "code",
      "metadata": {
        "id": "0uNy0SdBanYO"
      },
      "source": [
        "for br in nx.bridges(got_graph.to_undirected(), root=None):\n",
        "    #print(\"edge (src,target):\", br)\n",
        "    src,target = br\n",
        "    got_graph[src][target]['is_bridge'] = 1 "
      ],
      "execution_count": null,
      "outputs": []
    },
    {
      "cell_type": "markdown",
      "metadata": {
        "id": "9NOCZenLanYO"
      },
      "source": [
        "### Local Bridges\n",
        "\n",
        "A local bridge is an edge whose endpoints have no common neighbors. That is, the edge is not part of a triangle in the graph\n",
        "\n",
        "The span of a local bridge is the shortest path length between the endpoints if the local bridge is removed."
      ]
    },
    {
      "cell_type": "code",
      "metadata": {
        "id": "JgGTLbyYanYP"
      },
      "source": [
        "nx.set_edge_attributes(got_graph, 0, name=\"is_local_bridge\")\n",
        "\n",
        "for br in nx.local_bridges(got_graph, with_span=True, weight='None'):\n",
        "    #print(\"edge (src,target, span):\", br)\n",
        "    src, target, span = br\n",
        "    got_graph[src][target]['is_local_bridge'] = 1"
      ],
      "execution_count": null,
      "outputs": []
    },
    {
      "cell_type": "code",
      "metadata": {
        "id": "g1i1YsTeanYP"
      },
      "source": [
        "nx.write_gexf(G=got_graph,path=\"got_graph.gexf\")"
      ],
      "execution_count": null,
      "outputs": []
    }
  ]
}